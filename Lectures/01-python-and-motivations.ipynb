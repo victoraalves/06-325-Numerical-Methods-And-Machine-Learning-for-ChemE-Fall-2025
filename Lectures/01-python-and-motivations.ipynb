{
 "cells": [
  {
   "cell_type": "markdown",
   "id": "5901310e",
   "metadata": {},
   "source": [
    "# Lecture 1 - Python for Numerical Methods: the (very basic) essentials"
   ]
  },
  {
   "cell_type": "markdown",
   "id": "023a82e5",
   "metadata": {},
   "source": [
    "## Motivation: Why Python?"
   ]
  },
  {
   "cell_type": "markdown",
   "id": "e5a685a1",
   "metadata": {},
   "source": [
    "Today we will have a crash course on the main functionalities needed to build numerical methods in Python. The reality is that it takes a considerable amount of time to be fully proficient in programming in general. We learn new things every day. I do, after roughly 13 years of coding, and I believe that it will never end :)\n",
    "\n",
    "That does not mean that we can't develop a fundamental set of programming skills that enables us to have our numerical methods and ML course. You will see that Python is a great programming language due to its simple syntax; Yet, it has a great community: Most of the popular Python tools and packages are built by the scientific community, for the scientific community. \n",
    "\n",
    "Python is also free and open-source. This means that you can (i) use it without paying anything, which is great for, among other things, preparing you to be a competitive chemical engineer in the market and (ii) you can actually see what is going on inside the source codes made available by the community.\n",
    "\n",
    "Python has been steadily becoming the main tool for data science, numerical methods and machine learning. When I took this course 13 years ago, things were a lot different. Python was still becoming popular, and close-source, commercial programming languages were still dominant in chemical engineering. This created a barrier between us (ChemEs) and the other scientific communities (computer science, machine learning, etc). Now, we can see these communities way more integrated and collaborating. And I personally think that this is due to the emergence of tools like Python.\n",
    "\n",
    "Companies like google, Microsoft and Meta, and foundations like Linux Foundation all use Python to build their software, ranging from machine learning ecosystems like [PyTorch](https://pytorch.org), [TensorFlow](https://www.tensorflow.org) and [JAX](https://docs.jax.dev/en/latest/index.html) -- Allowing the training of massive-scale ML models, to frameworks that enable material discovery [Open Catalyst Project](https://opencatalystproject.org). All of these applications certainly use numerical methods, ML, and most likely, both. \n",
    "\n"
   ]
  },
  {
   "cell_type": "markdown",
   "id": "c35bfde6",
   "metadata": {},
   "source": [
    "[A recent Survey by Stack Overflow](https://survey.stackoverflow.co/2024/technology#most-popular-technologies-language) shows Python among the top languages **overall* for \"professional developers\", \"learning how to code\", and \"other coders\" (maybe that's us?) categories:\n",
    "\n",
    "![](../images/survey_stack_overflow_01.png)\n",
    "\n",
    "\n",
    "\n"
   ]
  },
  {
   "cell_type": "markdown",
   "id": "3dd63ecc",
   "metadata": {},
   "source": [
    "![](../images/survey_stack_overflow_02.png)"
   ]
  },
  {
   "cell_type": "markdown",
   "id": "f711c53a",
   "metadata": {},
   "source": [
    "![](../images/survey_stack_overflow_03.png)"
   ]
  },
  {
   "cell_type": "markdown",
   "id": "82ab9e97",
   "metadata": {},
   "source": [
    "![](../images/survey_stack_overflow_04.png)"
   ]
  },
  {
   "cell_type": "markdown",
   "id": "e96b3dce",
   "metadata": {},
   "source": [
    "I hope this small discussion with some examples and data is sufficient to motivate you. :) To the learning outcomes!\n",
    "\n",
    "## Learning Outcomes\n",
    "\n",
    "-  Understand the basic Python variables types and operations\n",
    "-  Printing \n",
    "-  Understanding the concept of control flows\n",
    "-  Getting used to basic NumPy syntax/use\n",
    "-  Use `?` to get help about a certain Python function\n",
    "-  Becoming familiar with basic plotting (using matplotlib)\n",
    "-  Understanding the motivation of numerical methods."
   ]
  },
  {
   "cell_type": "markdown",
   "id": "5c8ec750",
   "metadata": {},
   "source": [
    "## 1) Basic Operations"
   ]
  },
  {
   "cell_type": "markdown",
   "id": "ed426007",
   "metadata": {},
   "source": [
    "### 1.1. Defining variables\n",
    "Defining variables is one of the most simplest yet important operations we will do. Use `=` to assign. Variable names start with a letter or `_` and can include numbers/underscores.\n",
    "\n",
    "We will follow a ChemE theme when possible (variables we are used to work with such as pressures, temperatures, flows, etc.)."
   ]
  },
  {
   "cell_type": "code",
   "execution_count": 1,
   "id": "a5787be2",
   "metadata": {},
   "outputs": [],
   "source": [
    "# Basic variables\n",
    "T = 350                 # temperature in K (integer)\n",
    "P = 1.2                 # pressure in bar (float)\n",
    "component = \"MEK\"       # this is a string\n",
    "flows = [2.0, 3.5, 1.2] # list of three stream flows (e.g., mol/min)"
   ]
  },
  {
   "cell_type": "markdown",
   "id": "7161c351",
   "metadata": {},
   "source": [
    "We need to use the `print()` command to print these variables."
   ]
  },
  {
   "cell_type": "markdown",
   "id": "7cc13eaf",
   "metadata": {},
   "source": [
    "We can print the variables themselves. For example:"
   ]
  },
  {
   "cell_type": "code",
   "execution_count": 2,
   "id": "89d28e2e",
   "metadata": {},
   "outputs": [
    {
     "name": "stdout",
     "output_type": "stream",
     "text": [
      "The temperature is 350 Kelvin\n"
     ]
    }
   ],
   "source": [
    "print(\"The temperature is\" + \" \" + str(T) + \" \" +\"Kelvin\")"
   ]
  },
  {
   "cell_type": "markdown",
   "id": "c1400d4b",
   "metadata": {},
   "source": [
    "Or their types, using the `type` command (native in Python)"
   ]
  },
  {
   "cell_type": "code",
   "execution_count": 3,
   "id": "c867897a",
   "metadata": {},
   "outputs": [
    {
     "name": "stdout",
     "output_type": "stream",
     "text": [
      "<class 'int'>\n",
      "<class 'float'>\n",
      "<class 'str'>\n",
      "<class 'list'>\n"
     ]
    }
   ],
   "source": [
    "# Show types\n",
    "print(type(T))\n",
    "print(type(P))\n",
    "print(type(component))\n",
    "print(type(flows))"
   ]
  },
  {
   "cell_type": "markdown",
   "id": "50899737",
   "metadata": {},
   "source": [
    "You can also 'pick' elements of a list"
   ]
  },
  {
   "cell_type": "code",
   "execution_count": 4,
   "id": "4f1f64d2",
   "metadata": {},
   "outputs": [
    {
     "data": {
      "text/plain": [
       "2.0"
      ]
     },
     "execution_count": 4,
     "metadata": {},
     "output_type": "execute_result"
    }
   ],
   "source": [
    "flows[0]"
   ]
  },
  {
   "cell_type": "markdown",
   "id": "74cce5c0",
   "metadata": {},
   "source": [
    "Or slices"
   ]
  },
  {
   "cell_type": "code",
   "execution_count": 5,
   "id": "d0a4cf9a",
   "metadata": {},
   "outputs": [
    {
     "data": {
      "text/plain": [
       "[2.0, 3.5]"
      ]
     },
     "execution_count": 5,
     "metadata": {},
     "output_type": "execute_result"
    }
   ],
   "source": [
    "flows[0:2]"
   ]
  },
  {
   "cell_type": "markdown",
   "id": "49563a06",
   "metadata": {},
   "source": [
    "Note that indexing starts at zero and the slice is upper-bound exclusive."
   ]
  },
  {
   "cell_type": "code",
   "execution_count": 6,
   "id": "4f0b5256",
   "metadata": {},
   "outputs": [
    {
     "data": {
      "text/plain": [
       "1.2"
      ]
     },
     "execution_count": 6,
     "metadata": {},
     "output_type": "execute_result"
    }
   ],
   "source": [
    "flows[-1] # gets the last element of the list"
   ]
  },
  {
   "cell_type": "markdown",
   "id": "76744c83",
   "metadata": {},
   "source": [
    "### 1.2 Printing and f-strings\n",
    "Use **f-strings** to embed variables in text and format results."
   ]
  },
  {
   "cell_type": "code",
   "execution_count": 7,
   "id": "ad41c162",
   "metadata": {},
   "outputs": [
    {
     "name": "stdout",
     "output_type": "stream",
     "text": [
      "Temperature: 350 K\n",
      "T = 350 K, P = 1.20 bar, R = 0.0083 kJ/mol/K\n",
      "Flows (mol/min): [2.0, 3.5, 1.2]\n"
     ]
    }
   ],
   "source": [
    "# Basic printing\n",
    "print(\"Temperature:\", T, \"K\")\n",
    "\n",
    "# f-string with units and formatting\n",
    "R = 8.3145e-3  # kJ/mol/K\n",
    "print(f\"T = {T} K, P = {P:.2f} bar, R = {R:.4f} kJ/mol/K\")\n",
    "\n",
    "# Show list contents\n",
    "print(f\"Flows (mol/min): {flows}\")"
   ]
  },
  {
   "cell_type": "markdown",
   "id": "cb9680f5",
   "metadata": {},
   "source": [
    "### 1.3 Simple arithmetic and operator precedence\n",
    "Use parentheses liberally for readability. Scientific notation like `1e-3` is fine for magnitudes.\n",
    "\n",
    "Try:\n",
    "- Convert 1.2 bar to kPa. (1 bar $=$ 100 kPa)\n"
   ]
  },
  {
   "cell_type": "code",
   "execution_count": 8,
   "id": "c0bbf75f",
   "metadata": {},
   "outputs": [
    {
     "name": "stdout",
     "output_type": "stream",
     "text": [
      "1.20 bar = 120.0 kPa\n",
      "tiny = 2.3e-05\n",
      "28 56\n"
     ]
    }
   ],
   "source": [
    "# Examples\n",
    "kPa_per_bar = 100.0\n",
    "P_kPa = P * kPa_per_bar\n",
    "print(f\"{P:.2f} bar = {P_kPa:.1f} kPa\")\n",
    "\n",
    "# Scientific notation\n",
    "tiny = 2.3e-5\n",
    "print(\"tiny =\", tiny)\n",
    "\n",
    "# Order of operations demo\n",
    "expression_1 = 2**3 * 3 + 4        # 8*3 + 4 = 28\n",
    "expression_2 = 2**3 * (3 + 4)      # 8*(7) = 56\n",
    "print(expression_1, expression_2)"
   ]
  },
  {
   "cell_type": "markdown",
   "id": "d9efaaf0",
   "metadata": {},
   "source": [
    "## 2) Conditionals and loops\n",
    "\n",
    "### 2.1 `if` / `elif` / `else`\n",
    "Use conditionals to branch logic. For example, assume you are in a plant and are asked to print in the computer screen if the pressure is low, moderate and high depending on intervals:"
   ]
  },
  {
   "cell_type": "code",
   "execution_count": 9,
   "id": "a7969877",
   "metadata": {},
   "outputs": [
    {
     "name": "stdout",
     "output_type": "stream",
     "text": [
      "0.9\n"
     ]
    }
   ],
   "source": [
    "P = 0.9\n",
    "print(P)"
   ]
  },
  {
   "cell_type": "code",
   "execution_count": 10,
   "id": "5abd3a34",
   "metadata": {},
   "outputs": [
    {
     "name": "stdout",
     "output_type": "stream",
     "text": [
      "P=0.90 bar is low.\n"
     ]
    }
   ],
   "source": [
    "# Example: categorize pressure\n",
    "if P < 1:\n",
    "    label = \"low\"\n",
    "elif 1 <= P < 5:\n",
    "    label = \"moderate\"\n",
    "else:\n",
    "    label = \"high\"\n",
    "print(f\"P={P:.2f} bar is {label}.\")"
   ]
  },
  {
   "cell_type": "markdown",
   "id": "8c8face1",
   "metadata": {},
   "source": [
    "### 2.2 `for` loops and ranges\n",
    "Use `range(N)` for integer loops; iterate over lists directly for data."
   ]
  },
  {
   "cell_type": "code",
   "execution_count": 11,
   "id": "82eafbef",
   "metadata": {},
   "outputs": [
    {
     "name": "stdout",
     "output_type": "stream",
     "text": [
      "Total flow = 6.70 mol/min\n",
      "Stream 1: 2.0 mol/min\n",
      "Stream 2: 3.5 mol/min\n",
      "Stream 3: 1.2 mol/min\n"
     ]
    }
   ],
   "source": [
    "# Summing flows with a for-loop\n",
    "total_flow = 0.0\n",
    "for f in flows:\n",
    "    total_flow +=  f\n",
    "print(f\"Total flow = {total_flow:.2f} mol/min\")\n",
    "\n",
    "# Using range\n",
    "for i in range(len(flows)):\n",
    "    print(f\"Stream {i+1}: {flows[i]} mol/min\")"
   ]
  },
  {
   "cell_type": "markdown",
   "id": "bcbc790c",
   "metadata": {},
   "source": [
    "### 2.2 `while`"
   ]
  },
  {
   "cell_type": "code",
   "execution_count": 12,
   "id": "02f4a64c",
   "metadata": {},
   "outputs": [
    {
     "name": "stdout",
     "output_type": "stream",
     "text": [
      "Current number is 1\n",
      "Current number is 2\n",
      "Current number is 3\n",
      "Current number is 4\n",
      "Current number is 5\n",
      "Current number is 6\n",
      "Current number is 7\n",
      "Current number is 8\n",
      "Current number is 9\n",
      "Final total: 10\n"
     ]
    }
   ],
   "source": [
    "number = 1\n",
    "\n",
    "while number < 10:          \n",
    "    print(\"Current number is\", number)\n",
    "    number = number + 1\n",
    "\n",
    "print(\"Final total:\", number)"
   ]
  },
  {
   "cell_type": "markdown",
   "id": "d65dc10a",
   "metadata": {},
   "source": [
    "## 3) NumPy arrays (vectorized computing)\n",
    "Most scientific math is performed using arrays in **NumPy**. Arrays enable **vectorized** operations (fast and concise). It is a standard way to deal with vectors and matrices while coding, which are mathematical entities that frequently appear in science and engineering; Chemical engineering is no different.\n",
    "\n",
    "**NumPy** is a *Python package*. This means that someone (in NumPy's case, a whole team over several years and currently being actively developed) has put together several functions and algorithms that facilitate the use of certain algorithms. \n",
    "\n",
    "\n",
    "For example:\n",
    "\n",
    "1. Evaluating an inverse of a matrix or,\n",
    "\n",
    "2. Solving a linear system $Ax=b$ (more on that later today)\n",
    "\n",
    "3. To evaluate recurring functions ($e^x$, `numpy.exp`, $sin(x)$, `numpy.sin`,...)"
   ]
  },
  {
   "cell_type": "markdown",
   "id": "e69fd80d",
   "metadata": {},
   "source": [
    "In order to use `numpy`, you have to import it. It can be imported as "
   ]
  },
  {
   "cell_type": "code",
   "execution_count": 13,
   "id": "8a5524ed",
   "metadata": {},
   "outputs": [],
   "source": [
    "import numpy as np"
   ]
  },
  {
   "cell_type": "markdown",
   "id": "ef8032ed",
   "metadata": {},
   "source": [
    "Note that we imported numpy as `np`. This is handy because is an abbreviation/alias of the package name and makes your code shorter. It's a common Python programming practice, seeking conciseness. You don't have to do this. Most people do it, though."
   ]
  },
  {
   "cell_type": "markdown",
   "id": "288e1cb1",
   "metadata": {},
   "source": [
    "#### A note on local vs cloud (google colab) Python environments."
   ]
  },
  {
   "cell_type": "markdown",
   "id": "22a6fa9d",
   "metadata": {},
   "source": [
    "Since we are using Google Colab, its Python installed already comes with necessary *Python packages* we need preinstalled (`numpy`, `scipy`, `matploblib` and `scikit-learn`)\n",
    "\n",
    "This is not true when you have a local Python installation in your own computer. You would need to install Python and then, the packages you need/want to. One way to achieve this easily is by using the Anaconda distribution, available here:\n",
    "https://www.anaconda.com/download\n",
    "\n",
    "Ps.: You can hit the 'skip registration' button and download Anaconda without registering. It's free."
   ]
  },
  {
   "cell_type": "markdown",
   "id": "374ca43b",
   "metadata": {},
   "source": [
    "### Back to Numpy :)"
   ]
  },
  {
   "cell_type": "markdown",
   "id": "242711ed",
   "metadata": {},
   "source": [
    "Ok, back to NumPy. We imported it and we can take advantage of NumPy's extensive library of function/functionalities. For example, we can create an array:"
   ]
  },
  {
   "cell_type": "code",
   "execution_count": 14,
   "id": "c68fe632",
   "metadata": {},
   "outputs": [
    {
     "name": "stdout",
     "output_type": "stream",
     "text": [
      "x  = [0.  0.5 1. ]\n"
     ]
    }
   ],
   "source": [
    "x = np.array([0.0, 0.5, 1.0])\n",
    "\n",
    "print(\"x  =\", x)"
   ]
  },
  {
   "cell_type": "markdown",
   "id": "26833459",
   "metadata": {},
   "source": [
    "and use some neat functionalitiy from numpy to inspect this array:"
   ]
  },
  {
   "cell_type": "code",
   "execution_count": 15,
   "id": "bc6ac842",
   "metadata": {},
   "outputs": [
    {
     "data": {
      "text/plain": [
       "(3,)"
      ]
     },
     "execution_count": 15,
     "metadata": {},
     "output_type": "execute_result"
    }
   ],
   "source": [
    "x.shape"
   ]
  },
  {
   "cell_type": "markdown",
   "id": "65a5990a",
   "metadata": {},
   "source": [
    "We can also do element-wise operations, such as calculating $y=x^2 + 2x + 1$ for each element of the $x$ vector we just defined:"
   ]
  },
  {
   "cell_type": "code",
   "execution_count": 16,
   "id": "6393d586",
   "metadata": {},
   "outputs": [
    {
     "name": "stdout",
     "output_type": "stream",
     "text": [
      "y  = [1.   2.25 4.  ]\n"
     ]
    }
   ],
   "source": [
    "y = x**2 + 2*x + 1     # element-wise operation\n",
    "\n",
    "print(\"y  =\", y)"
   ]
  },
  {
   "cell_type": "markdown",
   "id": "f678461d",
   "metadata": {},
   "source": [
    "You can also create evenly-spaced vectors easily by using numpy's linspace function, for example:"
   ]
  },
  {
   "cell_type": "code",
   "execution_count": 17,
   "id": "59af43f9",
   "metadata": {},
   "outputs": [
    {
     "name": "stdout",
     "output_type": "stream",
     "text": [
      "t  = [ 0.   2.5  5.   7.5 10. ]\n"
     ]
    }
   ],
   "source": [
    "# linspace to generate grids\n",
    "t = np.linspace(0, 10, 5)\n",
    "print(\"t  =\", t)"
   ]
  },
  {
   "cell_type": "markdown",
   "id": "e0226e18",
   "metadata": {},
   "source": [
    "What do you think that linspace just did?"
   ]
  },
  {
   "cell_type": "markdown",
   "id": "14b2f6b3",
   "metadata": {},
   "source": [
    "#### Taking an inverse?"
   ]
  },
  {
   "cell_type": "markdown",
   "id": "1779e5dd",
   "metadata": {},
   "source": [
    "Let's try to take an inverse of the vector $x$"
   ]
  },
  {
   "cell_type": "code",
   "execution_count": 18,
   "id": "3eb09c8b",
   "metadata": {},
   "outputs": [],
   "source": [
    "import numpy as np"
   ]
  },
  {
   "cell_type": "markdown",
   "id": "9a4267bc",
   "metadata": {},
   "source": [
    "I'm being repetitive here, but on purpose. You don't have to import the package twice.\n",
    "\n",
    "\n",
    "Now, one of the most important things of coding: Reading documentation. You can find online NumPy's extensive documentation: https://numpy.org/doc/stable/reference/generated/numpy.linalg.inv.html\n",
    "\n",
    "you can also use a question mark `?` before a specific function name to bring up the documentation of this function as an output"
   ]
  },
  {
   "cell_type": "markdown",
   "id": "311da43f",
   "metadata": {},
   "source": [
    "And we can see that the function/algorithm that calculates the inverse of a matrix is within the NumPy's subpackage `linalg` (stands for linear algebra, which makes sense).\n",
    "\n",
    "We need to use `np.linalg(x)` to evaluate the inverse of $x$"
   ]
  },
  {
   "cell_type": "code",
   "execution_count": 19,
   "id": "d92a131f",
   "metadata": {},
   "outputs": [
    {
     "name": "stdout",
     "output_type": "stream",
     "text": [
      "\u001b[31mSignature:\u001b[39m       np.linalg.inv(a)\n",
      "\u001b[31mCall signature:\u001b[39m  np.linalg.inv(*args, **kwargs)\n",
      "\u001b[31mType:\u001b[39m            _ArrayFunctionDispatcher\n",
      "\u001b[31mString form:\u001b[39m     <function inv at 0x1105af740>\n",
      "\u001b[31mFile:\u001b[39m            /opt/anaconda3/envs/numerical/lib/python3.13/site-packages/numpy/linalg/_linalg.py\n",
      "\u001b[31mDocstring:\u001b[39m      \n",
      "Compute the inverse of a matrix.\n",
      "\n",
      "Given a square matrix `a`, return the matrix `ainv` satisfying\n",
      "``a @ ainv = ainv @ a = eye(a.shape[0])``.\n",
      "\n",
      "Parameters\n",
      "----------\n",
      "a : (..., M, M) array_like\n",
      "    Matrix to be inverted.\n",
      "\n",
      "Returns\n",
      "-------\n",
      "ainv : (..., M, M) ndarray or matrix\n",
      "    Inverse of the matrix `a`.\n",
      "\n",
      "Raises\n",
      "------\n",
      "LinAlgError\n",
      "    If `a` is not square or inversion fails.\n",
      "\n",
      "See Also\n",
      "--------\n",
      "scipy.linalg.inv : Similar function in SciPy.\n",
      "numpy.linalg.cond : Compute the condition number of a matrix.\n",
      "numpy.linalg.svd : Compute the singular value decomposition of a matrix.\n",
      "\n",
      "Notes\n",
      "-----\n",
      "Broadcasting rules apply, see the `numpy.linalg` documentation for\n",
      "details.\n",
      "\n",
      "If `a` is detected to be singular, a `LinAlgError` is raised. If `a` is\n",
      "ill-conditioned, a `LinAlgError` may or may not be raised, and results may\n",
      "be inaccurate due to floating-point errors.\n",
      "\n",
      "References\n",
      "----------\n",
      ".. [1] Wikipedia, \"Condition number\",\n",
      "       https://en.wikipedia.org/wiki/Condition_number\n",
      "\n",
      "Examples\n",
      "--------\n",
      ">>> import numpy as np\n",
      ">>> from numpy.linalg import inv\n",
      ">>> a = np.array([[1., 2.], [3., 4.]])\n",
      ">>> ainv = inv(a)\n",
      ">>> np.allclose(a @ ainv, np.eye(2))\n",
      "True\n",
      ">>> np.allclose(ainv @ a, np.eye(2))\n",
      "True\n",
      "\n",
      "If a is a matrix object, then the return value is a matrix as well:\n",
      "\n",
      ">>> ainv = inv(np.matrix(a))\n",
      ">>> ainv\n",
      "matrix([[-2. ,  1. ],\n",
      "        [ 1.5, -0.5]])\n",
      "\n",
      "Inverses of several matrices can be computed at once:\n",
      "\n",
      ">>> a = np.array([[[1., 2.], [3., 4.]], [[1, 3], [3, 5]]])\n",
      ">>> inv(a)\n",
      "array([[[-2.  ,  1.  ],\n",
      "        [ 1.5 , -0.5 ]],\n",
      "       [[-1.25,  0.75],\n",
      "        [ 0.75, -0.25]]])\n",
      "\n",
      "If a matrix is close to singular, the computed inverse may not satisfy\n",
      "``a @ ainv = ainv @ a = eye(a.shape[0])`` even if a `LinAlgError`\n",
      "is not raised:\n",
      "\n",
      ">>> a = np.array([[2,4,6],[2,0,2],[6,8,14]])\n",
      ">>> inv(a)  # No errors raised\n",
      "array([[-1.12589991e+15, -5.62949953e+14,  5.62949953e+14],\n",
      "   [-1.12589991e+15, -5.62949953e+14,  5.62949953e+14],\n",
      "   [ 1.12589991e+15,  5.62949953e+14, -5.62949953e+14]])\n",
      ">>> a @ inv(a)\n",
      "array([[ 0.   , -0.5  ,  0.   ],  # may vary\n",
      "       [-0.5  ,  0.625,  0.25 ],\n",
      "       [ 0.   ,  0.   ,  1.   ]])\n",
      "\n",
      "To detect ill-conditioned matrices, you can use `numpy.linalg.cond` to\n",
      "compute its *condition number* [1]_. The larger the condition number, the\n",
      "more ill-conditioned the matrix is. As a rule of thumb, if the condition\n",
      "number ``cond(a) = 10**k``, then you may lose up to ``k`` digits of\n",
      "accuracy on top of what would be lost to the numerical method due to loss\n",
      "of precision from arithmetic methods.\n",
      "\n",
      ">>> from numpy.linalg import cond\n",
      ">>> cond(a)\n",
      "np.float64(8.659885634118668e+17)  # may vary\n",
      "\n",
      "It is also possible to detect ill-conditioning by inspecting the matrix's\n",
      "singular values directly. The ratio between the largest and the smallest\n",
      "singular value is the condition number:\n",
      "\n",
      ">>> from numpy.linalg import svd\n",
      ">>> sigma = svd(a, compute_uv=False)  # Do not compute singular vectors\n",
      ">>> sigma.max()/sigma.min()\n",
      "8.659885634118668e+17  # may vary\n",
      "\u001b[31mClass docstring:\u001b[39m\n",
      "Class to wrap functions with checks for __array_function__ overrides.\n",
      "\n",
      "All arguments are required, and can only be passed by position.\n",
      "\n",
      "Parameters\n",
      "----------\n",
      "dispatcher : function or None\n",
      "    The dispatcher function that returns a single sequence-like object\n",
      "    of all arguments relevant.  It must have the same signature (except\n",
      "    the default values) as the actual implementation.\n",
      "    If ``None``, this is a ``like=`` dispatcher and the\n",
      "    ``_ArrayFunctionDispatcher`` must be called with ``like`` as the\n",
      "    first (additional and positional) argument.\n",
      "implementation : function\n",
      "    Function that implements the operation on NumPy arrays without\n",
      "    overrides.  Arguments passed calling the ``_ArrayFunctionDispatcher``\n",
      "    will be forwarded to this (and the ``dispatcher``) as if using\n",
      "    ``*args, **kwargs``.\n",
      "\n",
      "Attributes\n",
      "----------\n",
      "_implementation : function\n",
      "    The original implementation passed in."
     ]
    }
   ],
   "source": [
    "?np.linalg.inv"
   ]
  },
  {
   "cell_type": "code",
   "execution_count": 20,
   "id": "8686891f",
   "metadata": {},
   "outputs": [
    {
     "ename": "LinAlgError",
     "evalue": "1-dimensional array given. Array must be at least two-dimensional",
     "output_type": "error",
     "traceback": [
      "\u001b[31m---------------------------------------------------------------------------\u001b[39m",
      "\u001b[31mValueError\u001b[39m                                Traceback (most recent call last)",
      "\u001b[36mFile \u001b[39m\u001b[32m/opt/anaconda3/envs/numerical/lib/python3.13/site-packages/numpy/linalg/_linalg.py:259\u001b[39m, in \u001b[36m_assert_stacked_square\u001b[39m\u001b[34m(*arrays)\u001b[39m\n\u001b[32m    258\u001b[39m \u001b[38;5;28;01mtry\u001b[39;00m:\n\u001b[32m--> \u001b[39m\u001b[32m259\u001b[39m     m, n = a.shape[-\u001b[32m2\u001b[39m:]\n\u001b[32m    260\u001b[39m \u001b[38;5;28;01mexcept\u001b[39;00m \u001b[38;5;167;01mValueError\u001b[39;00m:\n",
      "\u001b[31mValueError\u001b[39m: not enough values to unpack (expected 2, got 1)",
      "\nDuring handling of the above exception, another exception occurred:\n",
      "\u001b[31mLinAlgError\u001b[39m                               Traceback (most recent call last)",
      "\u001b[36mCell\u001b[39m\u001b[36m \u001b[39m\u001b[32mIn[20]\u001b[39m\u001b[32m, line 1\u001b[39m\n\u001b[32m----> \u001b[39m\u001b[32m1\u001b[39m \u001b[43mnp\u001b[49m\u001b[43m.\u001b[49m\u001b[43mlinalg\u001b[49m\u001b[43m.\u001b[49m\u001b[43minv\u001b[49m\u001b[43m(\u001b[49m\u001b[43mx\u001b[49m\u001b[43m)\u001b[49m\n",
      "\u001b[36mFile \u001b[39m\u001b[32m/opt/anaconda3/envs/numerical/lib/python3.13/site-packages/numpy/linalg/_linalg.py:663\u001b[39m, in \u001b[36minv\u001b[39m\u001b[34m(a)\u001b[39m\n\u001b[32m    559\u001b[39m \u001b[38;5;250m\u001b[39m\u001b[33;03m\"\"\"\u001b[39;00m\n\u001b[32m    560\u001b[39m \u001b[33;03mCompute the inverse of a matrix.\u001b[39;00m\n\u001b[32m    561\u001b[39m \n\u001b[32m   (...)\u001b[39m\u001b[32m    660\u001b[39m \n\u001b[32m    661\u001b[39m \u001b[33;03m\"\"\"\u001b[39;00m\n\u001b[32m    662\u001b[39m a, wrap = _makearray(a)\n\u001b[32m--> \u001b[39m\u001b[32m663\u001b[39m \u001b[43m_assert_stacked_square\u001b[49m\u001b[43m(\u001b[49m\u001b[43ma\u001b[49m\u001b[43m)\u001b[49m\n\u001b[32m    664\u001b[39m t, result_t = _commonType(a)\n\u001b[32m    666\u001b[39m signature = \u001b[33m'\u001b[39m\u001b[33mD->D\u001b[39m\u001b[33m'\u001b[39m \u001b[38;5;28;01mif\u001b[39;00m isComplexType(t) \u001b[38;5;28;01melse\u001b[39;00m \u001b[33m'\u001b[39m\u001b[33md->d\u001b[39m\u001b[33m'\u001b[39m\n",
      "\u001b[36mFile \u001b[39m\u001b[32m/opt/anaconda3/envs/numerical/lib/python3.13/site-packages/numpy/linalg/_linalg.py:261\u001b[39m, in \u001b[36m_assert_stacked_square\u001b[39m\u001b[34m(*arrays)\u001b[39m\n\u001b[32m    259\u001b[39m     m, n = a.shape[-\u001b[32m2\u001b[39m:]\n\u001b[32m    260\u001b[39m \u001b[38;5;28;01mexcept\u001b[39;00m \u001b[38;5;167;01mValueError\u001b[39;00m:\n\u001b[32m--> \u001b[39m\u001b[32m261\u001b[39m     \u001b[38;5;28;01mraise\u001b[39;00m LinAlgError(\u001b[33m'\u001b[39m\u001b[38;5;132;01m%d\u001b[39;00m\u001b[33m-dimensional array given. Array must be \u001b[39m\u001b[33m'\u001b[39m\n\u001b[32m    262\u001b[39m             \u001b[33m'\u001b[39m\u001b[33mat least two-dimensional\u001b[39m\u001b[33m'\u001b[39m % a.ndim)\n\u001b[32m    263\u001b[39m \u001b[38;5;28;01mif\u001b[39;00m m != n:\n\u001b[32m    264\u001b[39m     \u001b[38;5;28;01mraise\u001b[39;00m LinAlgError(\u001b[33m'\u001b[39m\u001b[33mLast 2 dimensions of the array must be square\u001b[39m\u001b[33m'\u001b[39m)\n",
      "\u001b[31mLinAlgError\u001b[39m: 1-dimensional array given. Array must be at least two-dimensional"
     ]
    }
   ],
   "source": [
    "np.linalg.inv(x)"
   ]
  },
  {
   "cell_type": "markdown",
   "id": "a20daadd",
   "metadata": {},
   "source": [
    "Whoa. What is this error? Well, if you read what we call a Traceback, you will see that it is pretty clear what happened:"
   ]
  },
  {
   "cell_type": "markdown",
   "id": "7e855282",
   "metadata": {},
   "source": [
    "\"LinAlgError: 1-dimensional array given. Array must be at least two-dimensional\""
   ]
  },
  {
   "cell_type": "markdown",
   "id": "8f3d2231",
   "metadata": {},
   "source": [
    "Which is true. If we print x we can see it is a vector, not a matrix."
   ]
  },
  {
   "cell_type": "code",
   "execution_count": 21,
   "id": "b3439570",
   "metadata": {},
   "outputs": [
    {
     "name": "stdout",
     "output_type": "stream",
     "text": [
      "[0.  0.5 1. ]\n",
      "(3,)\n"
     ]
    }
   ],
   "source": [
    "print(x)\n",
    "print(x.shape)"
   ]
  },
  {
   "cell_type": "markdown",
   "id": "0b2de45d",
   "metadata": {},
   "source": [
    "More especifically, it is the vector\n",
    "\n",
    "$x = \\begin{bmatrix} 0 \\\\ 0.5 \\\\ 1 \\end{bmatrix}$"
   ]
  },
  {
   "cell_type": "markdown",
   "id": "68f31220",
   "metadata": {},
   "source": [
    "Important note: Being able to read errors/bugs is also very important. It helps you to understand what is going wrong with your algorithm/code. It can be a misuse of the function from an external package (the case here) or a bug. :)"
   ]
  },
  {
   "cell_type": "markdown",
   "id": "1f76de2b",
   "metadata": {},
   "source": [
    "Ok, intentional mistake. But does this function actually work? Let's try an actual (square) matrix."
   ]
  },
  {
   "cell_type": "markdown",
   "id": "65aa79ab",
   "metadata": {},
   "source": [
    "$$\n",
    "A = \\begin{bmatrix} 4 & 7 \\\\ 2 & 6 \\end{bmatrix}\n",
    "$$"
   ]
  },
  {
   "cell_type": "markdown",
   "id": "f4e45430",
   "metadata": {},
   "source": [
    "Let's first check if the determinant is nonzero (inverse existence condition)"
   ]
  },
  {
   "cell_type": "markdown",
   "id": "f83cebd8",
   "metadata": {},
   "source": [
    "$$\n",
    "\\det(A) = (4)(6) - (7)(2) = 24 - 14 = 10\n",
    "$$"
   ]
  },
  {
   "cell_type": "markdown",
   "id": "63b604ad",
   "metadata": {},
   "source": [
    "It does. Let's apply the inverse matrix formula:\n",
    "\n",
    "For a 2×2 matrix\n",
    "$$\n",
    "A = \\begin{bmatrix} a & b \\\\ c & d \\end{bmatrix},\n",
    "$$\n",
    "the inverse is given by:\n",
    "\n",
    "$$\n",
    "A^{-1} = \\frac{1}{ad - bc} \\begin{bmatrix} d & -b \\\\ -c & a \\end{bmatrix}\n",
    "$$\n",
    "\n",
    "Applying this to our matrix:\n",
    "\n",
    "$$\n",
    "A^{-1} = \\frac{1}{10} \\begin{bmatrix} 6 & -7 \\\\ -2 & 4 \\end{bmatrix}\n",
    "= \\begin{bmatrix} 0.6 & -0.7 \\\\ -0.2 & 0.4 \\end{bmatrix}\n",
    "$$\n"
   ]
  },
  {
   "cell_type": "markdown",
   "id": "92823b23",
   "metadata": {},
   "source": [
    "And check if this actually true. Remember that $AA^{-1} = I$ the identity matrix."
   ]
  },
  {
   "cell_type": "markdown",
   "id": "17e47d82",
   "metadata": {},
   "source": [
    "$$\n",
    "\\begin{bmatrix}\n",
    "4 & 7 \\\\\n",
    "2 & 6\n",
    "\\end{bmatrix}\n",
    "\\cdot\n",
    "\\begin{bmatrix}\n",
    "0.6 & -0.7 \\\\\n",
    "-0.2 & 0.4\n",
    "\\end{bmatrix}\n",
    "=\n",
    "\\begin{bmatrix}\n",
    "(4)(0.6) + (7)(-0.2) & (4)(-0.7) + (7)(0.4) \\\\\n",
    "(2)(0.6) + (6)(-0.2) & (2)(-0.7) + (6)(0.4)\n",
    "\\end{bmatrix}\n",
    "=\n",
    "\\begin{bmatrix}\n",
    "1 & 0 \\\\\n",
    "0 & 1\n",
    "\\end{bmatrix}\n",
    "$$"
   ]
  },
  {
   "cell_type": "markdown",
   "id": "01ec08ec",
   "metadata": {},
   "source": [
    "Well, that was a bit long. What about using NumPy? Let's create an array A, evaluate its inverse, and check if it actually did the right thing."
   ]
  },
  {
   "cell_type": "code",
   "execution_count": 22,
   "id": "26b8d96c",
   "metadata": {},
   "outputs": [
    {
     "name": "stdout",
     "output_type": "stream",
     "text": [
      "[[4 7]\n",
      " [2 6]]\n",
      "The dimensions of A are (2, 2)\n"
     ]
    }
   ],
   "source": [
    "A = np.array([[4, 7],\n",
    "             [2, 6]])\n",
    "\n",
    "print(A)\n",
    "\n",
    "print('The dimensions of A are ' + str(A.shape))"
   ]
  },
  {
   "cell_type": "markdown",
   "id": "38852b07",
   "metadata": {},
   "source": [
    "now, let's check using `np.linalg.inv`:"
   ]
  },
  {
   "cell_type": "code",
   "execution_count": 23,
   "id": "0dcc0af7",
   "metadata": {},
   "outputs": [
    {
     "name": "stdout",
     "output_type": "stream",
     "text": [
      "[[ 0.6 -0.7]\n",
      " [-0.2  0.4]]\n"
     ]
    }
   ],
   "source": [
    "A_inv = np.linalg.inv(A)\n",
    "\n",
    "print(A_inv)"
   ]
  },
  {
   "cell_type": "markdown",
   "id": "d1d61c8c",
   "metadata": {},
   "source": [
    "You can access elements of any array using slices, similar to what we did with lists:"
   ]
  },
  {
   "cell_type": "code",
   "execution_count": 24,
   "id": "9df19848",
   "metadata": {},
   "outputs": [
    {
     "name": "stdout",
     "output_type": "stream",
     "text": [
      "[ 0.6 -0.7]\n",
      "0.6\n",
      "-0.7000000000000001\n",
      "0.6\n"
     ]
    }
   ],
   "source": [
    "print(A_inv[0])    # Gives the first row\n",
    "print(A_inv[0,0])  # Gives element in first row, first column = 0.6\n",
    "print(A_inv[0,-1]) # Gives first row, last element of the column\n",
    "print(A_inv[0,-2]) # Gives first row, first element of the column too!"
   ]
  },
  {
   "cell_type": "markdown",
   "id": "cbfb481d",
   "metadata": {},
   "source": [
    "Nevertheless, this inverse matches with the analytical answer. Double checking, we have to get the identity matrix if we do $A^{-1}A$. In order to do matrix multiplication, we use the `@` operator in Python (since Python 3.5)"
   ]
  },
  {
   "cell_type": "code",
   "execution_count": 25,
   "id": "fc357008",
   "metadata": {},
   "outputs": [
    {
     "name": "stdout",
     "output_type": "stream",
     "text": [
      "[[ 1.00000000e+00 -1.11022302e-16]\n",
      " [-1.11022302e-16  1.00000000e+00]]\n"
     ]
    }
   ],
   "source": [
    "I =  A @ A_inv\n",
    "\n",
    "print(I)"
   ]
  },
  {
   "cell_type": "markdown",
   "id": "285d8a93",
   "metadata": {},
   "source": [
    "Which is pretty much the identity matrix. You can see some numerical differences here (1.1e-16) due to numerics. Remember: Most of the operations in a computer are within a certain *tolerance* and we are pretty safe to say that this number on position $i_{1,2}$ is zero:\n",
    "\n",
    "$0.0000000000000000111022302\\approx 0$"
   ]
  },
  {
   "cell_type": "markdown",
   "id": "dcb8bba3",
   "metadata": {},
   "source": [
    "### Common functions"
   ]
  },
  {
   "cell_type": "markdown",
   "id": "7837bbc3",
   "metadata": {},
   "source": [
    "Trigonometric functions: "
   ]
  },
  {
   "cell_type": "code",
   "execution_count": 26,
   "id": "91c05904",
   "metadata": {},
   "outputs": [
    {
     "name": "stdout",
     "output_type": "stream",
     "text": [
      " sin(x) = 1.2246467991473532e-16\n",
      " sin(x) = 0.0\n"
     ]
    }
   ],
   "source": [
    "import numpy as np\n",
    "from numpy import pi\n",
    "\n",
    "x = pi\n",
    "\n",
    "sin_of_x = np.sin(x)\n",
    "print(' sin(x) = ' + str(sin_of_x) )\n",
    "print(' sin(x) = ' + f'{sin_of_x:.1f}')"
   ]
  },
  {
   "cell_type": "code",
   "execution_count": 27,
   "id": "7e286ba3",
   "metadata": {},
   "outputs": [
    {
     "name": "stdout",
     "output_type": "stream",
     "text": [
      "-1.0\n",
      "-1.2246467991473532e-16\n",
      "11.591953275521519\n",
      "0.9962720762207499\n",
      "0.99627207622075\n"
     ]
    }
   ],
   "source": [
    "print(np.cos(x))\n",
    "print(np.tan(x))\n",
    "print(np.cosh(x))\n",
    "print(np.tanh(x))\n",
    "print((np.sinh(x)/np.cosh(x)))"
   ]
  },
  {
   "cell_type": "markdown",
   "id": "33f25594",
   "metadata": {},
   "source": [
    "Exponential: example : $e^0 = 1$ "
   ]
  },
  {
   "cell_type": "code",
   "execution_count": 28,
   "id": "8eb163a3",
   "metadata": {},
   "outputs": [
    {
     "name": "stdout",
     "output_type": "stream",
     "text": [
      "1.0\n"
     ]
    }
   ],
   "source": [
    "x = 0\n",
    "print(np.exp(x))"
   ]
  },
  {
   "cell_type": "markdown",
   "id": "875e3faf",
   "metadata": {},
   "source": [
    "## 3.1. Example: Mass balances in separation system\n",
    "\n",
    "Adapted from an example available in [Numerical Methods for Chemical Engineering: Applications in MATLAB](https://doi.org/10.1017/CBO9780511812194), which you have access via CMU libraries, and also online [here (MIT).](https://web.mit.edu/10.34/www/F2002_10x34_HW1_soln.pdf)\n",
    "\n",
    "\n",
    "![](../images/mass_balance.png)\n"
   ]
  },
  {
   "cell_type": "markdown",
   "id": "e59aa0cd",
   "metadata": {},
   "source": [
    "Given the schematic above, which is a separation system, we are given the inlet flow rate $[kg/h]$ as well as mass fractions of each species involved in the separation in the inlet (stream 1) and outlets (streams 2, 4 and 5).\n",
    "\n",
    "Let's use here the following notation:\n",
    "\n",
    "1. $^i F$ is the mass flow of stream $i$\n",
    "2. $^i w_j$ is the mass fraction of species $j$ in the $ith$ stream.\n",
    "\n",
    "Hence we can define the unknowns $x_1$, $x_2$ and $x_3$: $x_1={ }^2 F \\quad x_2={ }^4 F \\quad x_3={ }^5 F$ and define mass balances for the overall system:\n",
    "\n",
    "${ }^2 F+{ }^4 F+{ }^5 F={ }^1 F$\n",
    "\n",
    "and for species 1 and 2: \n",
    "\n",
    "$\\left({ }^2 w_1\\right)\\left({ }^2 F\\right)+\\left({ }^4 w_1\\right)\\left({ }^4 F\\right)+\\left({ }^5 w_1\\right)\\left({ }^5 F\\right)=\\left({ }^1 w_1\\right)\\left({ }^1 F\\right)$\n",
    "\n",
    "$\\left({ }^2 w_2\\right)\\left({ }^2 F\\right)+\\left({ }^4 w_2\\right)\\left({ }^4 F\\right)+\\left({ }^5 w_2\\right)\\left({ }^5 F\\right)=\\left({ }^1 w_2\\right)\\left({ }^1 F\\right)$\n",
    "\n",
    "This yields a set of three equations with three unknowns. A system that can be solved (e.g., has a unique solution):\n",
    "\n",
    "$$\n",
    "\\begin{gathered}\n",
    "x_1+x_2+x_3=10 \\\\\n",
    "(0.04) x_1+(0.54) x_2+(0.26) x_3=2 \\\\\n",
    "(0.93) x_1+(0.24) x_2+(0.0) x_3=6\n",
    "\\end{gathered}\n",
    "$$"
   ]
  },
  {
   "cell_type": "markdown",
   "id": "c5876e13",
   "metadata": {},
   "source": [
    "This can be cast in matrix form $Ax=b$. Using numpy arrays:"
   ]
  },
  {
   "cell_type": "code",
   "execution_count": 29,
   "id": "4003eecf",
   "metadata": {},
   "outputs": [
    {
     "name": "stdout",
     "output_type": "stream",
     "text": [
      "the values of x1, x2 and x3 are: [5.82375479 2.43295019 1.74329502]\n"
     ]
    }
   ],
   "source": [
    "A = np.array([[1,    1,    1],\n",
    "              [0.04, 0.54, 0.26],\n",
    "              [0.93, 0.24, 0]])\n",
    "\n",
    "b = np.array([10, 2, 6])\n",
    "\n",
    "x = np.linalg.solve(A,b)\n",
    "\n",
    "print('the values of x1, x2 and x3 are: ' + str(x))"
   ]
  },
  {
   "cell_type": "markdown",
   "id": "e62447cc",
   "metadata": {},
   "source": [
    "### 3.1. What can go wrong in linear algebra? [from Prof. Kitchin's intro to python computations in science and engineering](https://pointbreezepubs.gumroad.com/l/pycse-intro)"
   ]
  },
  {
   "cell_type": "markdown",
   "id": "43c794d5",
   "metadata": {},
   "source": [
    "When solving $Ax=b$, A must be a square array. That is, with as many rows or columns as there are unknowns in your system. Additionally, if you have too few, or too many equations, your system might not have a solution at all, or an infinite number of solutions. For example:"
   ]
  },
  {
   "cell_type": "code",
   "execution_count": 30,
   "id": "5ff4f007",
   "metadata": {},
   "outputs": [
    {
     "ename": "LinAlgError",
     "evalue": "Singular matrix",
     "output_type": "error",
     "traceback": [
      "\u001b[31m---------------------------------------------------------------------------\u001b[39m",
      "\u001b[31mLinAlgError\u001b[39m                               Traceback (most recent call last)",
      "\u001b[36mCell\u001b[39m\u001b[36m \u001b[39m\u001b[32mIn[30]\u001b[39m\u001b[32m, line 9\u001b[39m\n\u001b[32m      3\u001b[39m A = np.array([[\u001b[32m1\u001b[39m,\u001b[32m1\u001b[39m],\n\u001b[32m      4\u001b[39m               [\u001b[32m1\u001b[39m,\u001b[32m1\u001b[39m]])\n\u001b[32m      6\u001b[39m b = np.array([\u001b[32m1\u001b[39m, \u001b[32m2\u001b[39m])\n\u001b[32m----> \u001b[39m\u001b[32m9\u001b[39m \u001b[43mnp\u001b[49m\u001b[43m.\u001b[49m\u001b[43mlinalg\u001b[49m\u001b[43m.\u001b[49m\u001b[43msolve\u001b[49m\u001b[43m(\u001b[49m\u001b[43mA\u001b[49m\u001b[43m,\u001b[49m\u001b[43mb\u001b[49m\u001b[43m)\u001b[49m\n",
      "\u001b[36mFile \u001b[39m\u001b[32m/opt/anaconda3/envs/numerical/lib/python3.13/site-packages/numpy/linalg/_linalg.py:471\u001b[39m, in \u001b[36msolve\u001b[39m\u001b[34m(a, b)\u001b[39m\n\u001b[32m    468\u001b[39m signature = \u001b[33m'\u001b[39m\u001b[33mDD->D\u001b[39m\u001b[33m'\u001b[39m \u001b[38;5;28;01mif\u001b[39;00m isComplexType(t) \u001b[38;5;28;01melse\u001b[39;00m \u001b[33m'\u001b[39m\u001b[33mdd->d\u001b[39m\u001b[33m'\u001b[39m\n\u001b[32m    469\u001b[39m \u001b[38;5;28;01mwith\u001b[39;00m errstate(call=_raise_linalgerror_singular, invalid=\u001b[33m'\u001b[39m\u001b[33mcall\u001b[39m\u001b[33m'\u001b[39m,\n\u001b[32m    470\u001b[39m               over=\u001b[33m'\u001b[39m\u001b[33mignore\u001b[39m\u001b[33m'\u001b[39m, divide=\u001b[33m'\u001b[39m\u001b[33mignore\u001b[39m\u001b[33m'\u001b[39m, under=\u001b[33m'\u001b[39m\u001b[33mignore\u001b[39m\u001b[33m'\u001b[39m):\n\u001b[32m--> \u001b[39m\u001b[32m471\u001b[39m     r = \u001b[43mgufunc\u001b[49m\u001b[43m(\u001b[49m\u001b[43ma\u001b[49m\u001b[43m,\u001b[49m\u001b[43m \u001b[49m\u001b[43mb\u001b[49m\u001b[43m,\u001b[49m\u001b[43m \u001b[49m\u001b[43msignature\u001b[49m\u001b[43m=\u001b[49m\u001b[43msignature\u001b[49m\u001b[43m)\u001b[49m\n\u001b[32m    473\u001b[39m \u001b[38;5;28;01mreturn\u001b[39;00m wrap(r.astype(result_t, copy=\u001b[38;5;28;01mFalse\u001b[39;00m))\n",
      "\u001b[36mFile \u001b[39m\u001b[32m/opt/anaconda3/envs/numerical/lib/python3.13/site-packages/numpy/linalg/_linalg.py:163\u001b[39m, in \u001b[36m_raise_linalgerror_singular\u001b[39m\u001b[34m(err, flag)\u001b[39m\n\u001b[32m    162\u001b[39m \u001b[38;5;28;01mdef\u001b[39;00m\u001b[38;5;250m \u001b[39m\u001b[34m_raise_linalgerror_singular\u001b[39m(err, flag):\n\u001b[32m--> \u001b[39m\u001b[32m163\u001b[39m     \u001b[38;5;28;01mraise\u001b[39;00m LinAlgError(\u001b[33m\"\u001b[39m\u001b[33mSingular matrix\u001b[39m\u001b[33m\"\u001b[39m)\n",
      "\u001b[31mLinAlgError\u001b[39m: Singular matrix"
     ]
    }
   ],
   "source": [
    "import numpy as np\n",
    "\n",
    "A = np.array([[1,1],\n",
    "              [1,1]])\n",
    "\n",
    "b = np.array([1, 2])\n",
    "\n",
    "\n",
    "np.linalg.solve(A,b)"
   ]
  },
  {
   "cell_type": "markdown",
   "id": "68112be1",
   "metadata": {},
   "source": [
    "This happens because the left hand side of the linear system is not linearly dependent and the matrix is, therefore, singular:\n",
    "\n",
    "$$\n",
    "\\begin{aligned}\n",
    "& x+y=1 \\\\\n",
    "& \\text { and } \\\\\n",
    "& x+y=2\n",
    "\\end{aligned}\n",
    "$$"
   ]
  },
  {
   "cell_type": "markdown",
   "id": "fea11a9f",
   "metadata": {},
   "source": [
    "This has no solution. It would be the same case if we had a linear dependent row, such as:\n",
    "\n",
    "\n",
    "$$\n",
    "\\begin{aligned}\n",
    "& x+y=1 \\\\\n",
    "& \\text { and } \\\\\n",
    "& 2x+2y=4\n",
    "\\end{aligned}\n",
    "$$"
   ]
  },
  {
   "cell_type": "markdown",
   "id": "8dfa995d",
   "metadata": {},
   "source": [
    "## 4) Plotting with Matplotlib\n",
    "We can use the package `matplotlib` to generate **plots** of arrays. Additionally, we can label axes, add legends and grids for better readability.\n",
    "The simple plot below is just one of the many examples and possibilities of plots available in `matplotlib`. Scatter plots, histograms, 3D plots and so on... The list of capabilities to illustrate data is long. Please take a look at https://matplotlib.org"
   ]
  },
  {
   "cell_type": "code",
   "execution_count": 31,
   "id": "4bee7a02",
   "metadata": {},
   "outputs": [
    {
     "data": {
      "image/png": "[encoded data removed]",
      "text/plain": [
       "<Figure size 640x480 with 1 Axes>"
      ]
     },
     "metadata": {},
     "output_type": "display_data"
    }
   ],
   "source": [
    "import matplotlib.pyplot as plt\n",
    "\n",
    "x = np.linspace(0, 2*np.pi, 200)\n",
    "y1 = np.sin(x)\n",
    "y2 = np.cos(x)\n",
    "\n",
    "plt.plot(x, y1, label=\"sin(x)\")\n",
    "plt.plot(x, y2, label=\"cos(x)\")\n",
    "plt.xlabel(\"x\")\n",
    "plt.ylabel(\"y\")\n",
    "plt.legend()\n",
    "plt.grid(True)\n",
    "plt.title(\"Basic sin/cos plots\")\n",
    "plt.show()"
   ]
  },
  {
   "cell_type": "markdown",
   "id": "de4582d1",
   "metadata": {},
   "source": [
    "## 5) Functions in Python"
   ]
  },
  {
   "cell_type": "markdown",
   "id": "aa6f0f61",
   "metadata": {},
   "source": [
    "\n",
    "\n",
    "A **function** is a reusable block of code. This is how it usually looks like:\n",
    "```python\n",
    "def name(pos1, pos2, kw1=default, kw2=default):\n",
    "    \"\"\"Docstring explaining the function's purpose, units, and what it returns.\"\"\"\n",
    "    return something\n",
    "```\n",
    "\n"
   ]
  },
  {
   "cell_type": "markdown",
   "id": "45489384",
   "metadata": {},
   "source": [
    "### 5.2. Lambda Functions"
   ]
  },
  {
   "cell_type": "markdown",
   "id": "eb221e52",
   "metadata": {},
   "source": [
    "[Lambda functions can be helpful. They are never necessary. You can always define a function using def, but for some small, single-use functions, a lambda function could make sense. Lambda functions have some limitations, including that they are limited to a single expression, and they lack documentation strings.](https://kitchingroup.cheme.cmu.edu/blog/2013/05/20/Lambda-Lambda-Lambda/)"
   ]
  },
  {
   "cell_type": "code",
   "execution_count": 32,
   "id": "ed5949cd",
   "metadata": {},
   "outputs": [
    {
     "name": "stdout",
     "output_type": "stream",
     "text": [
      "Rate constant k = 1.1487419956649154e-05 1/s\n"
     ]
    }
   ],
   "source": [
    "# Define the Arrhenius equation as a lambda\n",
    "arrhenius = lambda A, Ea, R, T: A * np.exp(-Ea / (R * T))\n",
    "\n",
    "# Example parameters\n",
    "A = 1e7          # pre-exponential factor, 1/s\n",
    "Ea = 80000       # activation energy, J/mol\n",
    "R = 8.314        # gas constant, J/mol-K\n",
    "T = 350          # temperature, K\n",
    "\n",
    "# Evaluate\n",
    "k = arrhenius(A, Ea, R, T)\n",
    "print(\"Rate constant k =\", k, \"1/s\")"
   ]
  },
  {
   "cell_type": "markdown",
   "id": "2267c1b6",
   "metadata": {},
   "source": [
    "### 5.1. Example - Equation of State (EOS)\n",
    "\n",
    "Let's define the [**van der Waals EOS**](https://en.wikipedia.org/wiki/Van_der_Waals_equation) as a function and use it to compute **isotherms**.\n",
    "The equation is\n",
    "$\n",
    "P = \\frac{RT}{V_m - b} - \\frac{a}{V_m^2},\n",
    "$\n",
    "with $(a,b)$ specific to each gas, $R$ the gas constant, $T$ temperature, $V_m$ molar volume."
   ]
  },
  {
   "cell_type": "code",
   "execution_count": 33,
   "id": "e5aaa90d",
   "metadata": {},
   "outputs": [],
   "source": [
    "# Units: R in L·atm/(mol·K); Vm in L/mol; T in K; P in atm\n",
    "# data for a and b for several components can be easily found in: https://en.wikipedia.org/wiki/Van_der_Waals_constants_(data_page)\n",
    "def vdW_pressure(T, Vm, a=3.6, b=0.0427, R=0.082):\n",
    "    \"\"\"\n",
    "    Compute van der Waals pressure P [atm] for given T [K] and Vm [L/mol].\n",
    "    Defaults (a=3.6, b=0.0427) correspond to CO2.\n",
    "    Parameters\n",
    "    ----------\n",
    "    T : float or array-like\n",
    "        Temperature [K]\n",
    "    Vm : float or array-like\n",
    "        Molar volume [L/mol]\n",
    "    a, b : float\n",
    "        van der Waals parameters (fluid-specific)\n",
    "    R : float\n",
    "        Gas constant in L·atm/(mol·K)\n",
    "    Returns\n",
    "    --------\n",
    "    Gas pressure in [atm]\n",
    "    \"\"\"\n",
    "\n",
    "    P = (R * T) / (Vm - b) - a / (Vm**2)\n",
    "    return P"
   ]
  },
  {
   "cell_type": "markdown",
   "id": "5274ea8d",
   "metadata": {},
   "source": [
    "#### Positional and keyword arguments\n",
    "- **Positional**: order matters.\n",
    "- **Keyword**: specify parameter names; order doesn’t matter; great for readability.\n"
   ]
  },
  {
   "cell_type": "code",
   "execution_count": 34,
   "id": "d5626de7",
   "metadata": {},
   "outputs": [
    {
     "name": "stdout",
     "output_type": "stream",
     "text": [
      "69.31937172774872 100.87260034904023 113.66666666666667\n"
     ]
    }
   ],
   "source": [
    "# Positional arguments only\n",
    "p1 = vdW_pressure(300, 0.1)  # T=300 K, Vm=0.1 L/mol (defaults a,b,R for CO2)\n",
    "\n",
    "# Mix positional + keyword\n",
    "p2 = vdW_pressure(350, 0.1, a=4.0)  # override 'a', keep b and R defaults\n",
    "\n",
    "# All keyword arguments\n",
    "p3 = vdW_pressure(T=400, Vm=0.2, b=0.05, a=4.2, R=0.082)\n",
    "\n",
    "print(p1, p2, p3)"
   ]
  },
  {
   "cell_type": "markdown",
   "id": "6199c2da",
   "metadata": {},
   "source": [
    "Let's plot the isotherms:"
   ]
  },
  {
   "cell_type": "code",
   "execution_count": 35,
   "id": "b34684eb",
   "metadata": {},
   "outputs": [
    {
     "data": {
      "image/png": "[encoded data removed]",
      "text/plain": [
       "<Figure size 640x480 with 1 Axes>"
      ]
     },
     "metadata": {},
     "output_type": "display_data"
    }
   ],
   "source": [
    "import numpy as np\n",
    "import matplotlib.pyplot as plt\n",
    "\n",
    "Vm = np.linspace(0.05, 1.2, 600)  # avoid division by zero at Vm=b\n",
    "\n",
    "\n",
    "for T_plot in [280, 300, 320]:\n",
    "    P_curve = vdW_pressure(T_plot, Vm)  # positional for T, Vm\n",
    "    plt.plot(Vm, P_curve, label=f\"T={T_plot} K\")\n",
    "\n",
    "\n",
    "plt.ylim(10, 100)\n",
    "plt.xlabel(\"Molar volume, $V_m$ (L/mol)\")\n",
    "plt.ylabel(\"Pressure, $P$ (atm)\")\n",
    "plt.title(\"van der Waals isotherms (CO$_2$) via a Python function\")\n",
    "plt.legend()\n",
    "plt.grid(True)\n",
    "plt.tight_layout()\n",
    "plt.show()"
   ]
  },
  {
   "cell_type": "markdown",
   "id": "5a2f6bd2",
   "metadata": {},
   "source": [
    "## 5.2. Batch Reactor with First-Order Decay\n",
    "Consider an isothermal batch reactor with a first-order reaction:\n",
    "\n",
    "\n",
    "$A \\; \\rightarrow \\; Products$\n",
    "\n",
    "\n",
    "The governing ODE is:\n",
    "\n",
    "\n",
    "$\\frac{dC_A}{dt} = -k C_A$\n",
    "\n",
    "This ODE is separable and has an analytical solution:\n",
    "\n",
    "\n",
    "$C_A(t) = C_{A0} e^{-kt}$\n",
    "\n",
    "This shows **exponential decay** of concentration over time, typical for first-order reactions."
   ]
  },
  {
   "cell_type": "code",
   "execution_count": 36,
   "id": "0349a9fb",
   "metadata": {},
   "outputs": [
    {
     "data": {
      "image/png": "[encoded data removed]",
      "text/plain": [
       "<Figure size 600x400 with 1 Axes>"
      ]
     },
     "metadata": {},
     "output_type": "display_data"
    }
   ],
   "source": [
    "import numpy as np\n",
    "import matplotlib.pyplot as plt\n",
    "\n",
    "C0 = 1.0   # mol/L\n",
    "k = 0.5    # 1/min\n",
    "t = np.linspace(0, 10, 100)\n",
    "C = C0 * np.exp(-k * t)\n",
    "\n",
    "plt.figure(figsize=(6,4))\n",
    "plt.plot(t, C, lw=2)\n",
    "plt.xlabel('Time (min)')\n",
    "plt.ylabel('Concentration of A (mol/L)')\n",
    "plt.title('First-order Kinetics')\n",
    "plt.grid(True)\n",
    "plt.show()"
   ]
  },
  {
   "cell_type": "markdown",
   "id": "9ed10829",
   "metadata": {},
   "source": [
    "At multiple initial conditions:"
   ]
  },
  {
   "cell_type": "code",
   "execution_count": 37,
   "id": "7fbca8f6",
   "metadata": {},
   "outputs": [
    {
     "data": {
      "image/png": "[encoded data removed]",
      "text/plain": [
       "<Figure size 640x480 with 1 Axes>"
      ]
     },
     "metadata": {},
     "output_type": "display_data"
    }
   ],
   "source": [
    "# Parameters\n",
    "k = 0.5    # 1/min\n",
    "t = np.linspace(0, 10, 100)\n",
    "\n",
    "# Different initial concentrations\n",
    "C0_values = [0.5, 1.0, 2.0, 3.0]   # mol/L\n",
    "\n",
    "for C0 in C0_values:\n",
    "    C = C0 * np.exp(-k * t)\n",
    "    plt.plot(t, C, lw=2, label=f'$C_0$ = {C0} mol/L')\n",
    "\n",
    "plt.xlabel('Time (min)')\n",
    "plt.ylabel('Concentration of A (mol/L)')\n",
    "plt.title('First-order Decay at Different Initial Concentrations')\n",
    "plt.legend()\n",
    "plt.grid(True)\n",
    "plt.show()"
   ]
  },
  {
   "cell_type": "markdown",
   "id": "b60d408b",
   "metadata": {},
   "source": [
    "These are all very nice examples, well-behaved I'd say. But there are situations in which you **cannot** directly or analytically calculate/evaluate/obtain the solution of the problem at hand. In fact, this is true in most cases.\n",
    "\n",
    "Some examples:\n",
    "\n",
    "### Nonlinear Algebraic Equations  \n",
    "\n",
    "**Boiling Point via Antoine Equation**  \n",
    "\n",
    "The Antoine equation relates vapor pressure and temperature:\n",
    "\n",
    "$P = 10^{(A - \\frac{B}{T+C})}$\n",
    "\n",
    "For water at 1 atm ($P = 760 \\, \\text{mmHg}$), we want to solve for the boiling temperature $T$.  \n",
    "This is a **nonlinear equation in $T$** that does not have a closed-form solution.  → Requires **numerical root-finding**.\n",
    "\n",
    "\n",
    "\n",
    "### Bioprocess Dynamics (ODEs That Cannot Be Solved Analytically)  \n",
    "\n",
    "Consider a simple model of **microbial growth in a batch bioreactor**:\n",
    "\n",
    "$\\frac{dX}{dt} = \\mu_{\\max} \\frac{S[t]}{K_s + S[t]} X$\n",
    "\n",
    "where:  \n",
    "- $X$ = biomass concentration,  \n",
    "- $S$ = substrate concentration,  \n",
    "- $\\mu_{\\max}$ = maximum growth rate,  \n",
    "- $K_s$ = saturation constant.  \n",
    "\n",
    "This is a **nonlinear ODE system** (since substrate $S$ is also consumed), and cannot be solved with simple separation of variables.  → Requires **numerical integration**.\n",
    "\n",
    "\n"
   ]
  },
  {
   "cell_type": "markdown",
   "id": "3841ee36",
   "metadata": {},
   "source": [
    "# Closing Remarks\n",
    "\n",
    "In this class, we will learn how to solve problems in which a solution cannot be directly obtained by separation of variables, analytical solutions, and/or closed-form expressions. The unifying theme of numerical methods is:\n",
    "\n",
    "\n",
    "1. These problems arise all the time in science and engineering. Even though there may be no analytical solution, we still need to obtain an approximation.\n",
    "\n",
    "2. Since an analytical solution is not available, we will develop methods that gives us a solution that is within a *numerical tolerance*. That is, we should be close enough to the solution we want.\n",
    "\n",
    "3. The numerical methods will be iterative. That is, we will \"march\" towards a solution (hopefully) using some logic to move from one iteration to the next one, as well as making decisions about (i) when to stop progressing, and (ii) to which \"direction\" we should move in what we call the \"solution landscape\".\n",
    "\n",
    "All numerical methods that will be shown in this class follow the steps mentioned above. The main difference is which type of problem each method will solve, what is the numerical tolerance applied (sometimes, very similar concepts of tolerance!) and which mathematical tools/theory will be used to develop such algorithms.\n",
    "\n"
   ]
  }
 ],
 "metadata": {
  "kernelspec": {
   "display_name": "numerical",
   "language": "python",
   "name": "python3"
  },
  "language_info": {
   "codemirror_mode": {
    "name": "ipython",
    "version": 3
   },
   "file_extension": ".py",
   "mimetype": "text/x-python",
   "name": "python",
   "nbconvert_exporter": "python",
   "pygments_lexer": "ipython3",
   "version": "3.13.5"
  }
 },
 "nbformat": 4,
 "nbformat_minor": 5
}
