{
 "cells": [
  {
   "cell_type": "markdown",
   "id": "48396a59",
   "metadata": {},
   "source": [
    "# Numerical Methods and Machine Learning for Chemical Engineering"
   ]
  },
  {
   "cell_type": "markdown",
   "id": "5ac08c5a",
   "metadata": {},
   "source": [
    "## Introduction and Syllabus "
   ]
  },
  {
   "cell_type": "markdown",
   "id": "e30f9b2d",
   "metadata": {},
   "source": [
    "**Instructors:** \n",
    "\n",
    "1. Victor Alves, Email: vcunhaal@andrew.cmu.edu, Office: A204 Doherty Hall\n",
    "\n",
    "2. Carl D. Laird, Email: claird@andrew.cmu.edu, Office: 4210C/2100 Doherty Hall\n",
    "\n",
    "\n",
    "**Course Assistants:**\n",
    "\n",
    "1. Megan Walsh, Email: mew2@andrew.cmu.edu, Office: A204 Doherty Hall\n",
    "\n",
    "2. Tirtha Vinchurkar, Email: tvinchur@andrew.cmu.edu, Office: 4200 Doherty Hall\n",
    "\n",
    "**Class Schedule:**\n",
    "\n",
    "- **Lecture** Mon/Wed 2:00 - 3:50 PM BH A53\n",
    "\n",
    "- **Office Hours** Mon/Tue/Wed 5:00 - 7:00 PM DH 4201 (Mon: TAs, Tue: Tutor, Wed: Victor + TAs)\n",
    "\n",
    "**Course Website:** Canvas will be used for posting homework and other course materials.\n",
    "\n",
    "\n",
    "**Course Material:**\n",
    "\n",
    "1. Jupyter Notebooks developed for this class made available on Canvas.\n",
    "\n",
    "**Secondary (Optional, but recommended)**\n",
    "\n",
    "2. Dorfman, K. D., & Daoutidis, P. (2017). Numerical Methods with Chemical Engineering Applications. Cambridge University Press.\n",
    "\n",
    "**Tutors**\n",
    "\n",
    "The Student Academic Success Center provides tutoring for this course. Appointments for one-on-one tutoring can be booked [via the WCOnline schedule](https://cmu.mywconline.net/schedule2.php?date=03-09-2023&scheduleid=sc161b28a21ec4c3&limfoc=14). All tutoring begins Tuesday, September $2^{nd}$. "
   ]
  },
  {
   "cell_type": "markdown",
   "id": "6a65e7d9",
   "metadata": {},
   "source": [
    "# Welcome to *06-325 Numerical Methods and Machine Learning for Chemical Engineering*! In this class we will cover:\n",
    "\n",
    "1. **Concepts related to numerical methods to solve chemical engineering problems including:**\n",
    "\n",
    "    1.1. **Linear** and **nonlinear equations/system of equations**, \n",
    "\n",
    "    1.2. **Ordinary differential equations (ODEs)**, \n",
    "\n",
    "    1.3. **Optimization and curve-fitting of chemical engineering systems (without and with constraints)**\n",
    "\n",
    "2. Machine Learning:\n",
    "\n",
    "    2.1. **Regression:** Decision Trees, Neural Networks, Gaussian Processes (GPs) - More frequent in chemical engineering applications\n",
    "\n",
    "    2.2. **Classification** and **Clustering** - Less frequent (relatively speaking), but we will take a quick look at them.\n",
    "\n",
    "\n",
    "\n"
   ]
  },
  {
   "cell_type": "markdown",
   "id": "5b06527c",
   "metadata": {},
   "source": [
    "# Some notes and recommendations before we start"
   ]
  },
  {
   "cell_type": "markdown",
   "id": "92664c09",
   "metadata": {},
   "source": [
    "I will assume you already have some (not expert-level) familiarity with Python and the basics of coding. If not, I'd recommend some resources for you:\n",
    "\n",
    "1. John Kitchin's *Python Computation in Science and Engineering*, available here, for free: https://kitchingroup.cheme.cmu.edu/pycse/intro.html\n",
    "2. A very similar version of #1 above also from Prof. Kitchin, that he published as *Introduction to Python computations in science and engineering*, also available for free: https://pointbreezepubs.gumroad.com/l/pycse-intro?layout=profile .\n",
    "\n",
    "I recommend you to consult these materials when having questions that involve coding in general, as well as some numerical methods concepts too. These are excellent materials that I still use every day!\n",
    "\n",
    "If you are not familiar with Python and did not have the chance to familiarize yourself with it before, we will build the necessary skills to use it. We will be using three of the most popular/famous Python packages built for *scientific computing*:\n",
    "\n",
    "1. NumPy, https://numpy.org, which allows us to manipulate arrays, a fundamental concept in scientific computing and numerical methods (more on that later)\n",
    "2. SciPy, https://scipy.org, which contains most of the algorithms and numerical methods taught in this class, **already coded**\n",
    "3. Scikit-Learn, https://scikit-learn.org/, maybe the most popular machine learning (ML) Python package; Again, containing most of the numerical methods and machine learning algorithms covered in this class.\n"
   ]
  },
  {
   "cell_type": "markdown",
   "id": "0183358f",
   "metadata": {},
   "source": [
    "# What should you expect?\n",
    "\n",
    "\n",
    "Expect dynamic classes, in which I will teach you how the numerical methods and machine learning algorithm work. And I will use this interface (Jupyter) as well as some slides eventually to show you both code and theoretical aspects of the class.\n",
    "\n",
    "The main takeaway of this course is **critical thinking regarding which numerical method and ML algorithm applies to each problem**. \n",
    "\n",
    "<!-- In the schematic below, I have separated the problems we face in Chemical Engineering from a mathematical perspective based on their inherent characteristics (for example: linear or nonlinear, continuous or discrete): -->\n",
    "\n",
    "\n",
    "\n",
    "\n",
    "\n",
    "\n",
    "\n",
    "At the end of this Mini course, the main skills you should develop are:\n",
    "\n",
    "1. Identifying to which class of problem you are being presented.\n",
    "2. Which numerical method and/or ML algorithm is suitable for solving the problem at hand.\n",
    "3. If there is more than one way to solve the problem presented to you, what are the pros and cons of using each alternative?\n",
    "\n",
    "\n",
    "This should, hopefully, help you in our career to quickly analyze mathematical problems and judge which tool you should use.\n",
    "\n",
    "\n",
    "# What should you not expect?\n",
    "\n",
    "This is a Mini course, and time is of essence. I will do my best to strike a balance between providing you the maximum amount of technical content and respecting the fact that our time is limited. Hence, you should not expect that we are going to dive into extremely specific details of each algorithm/numerical method. Rather, I will provide an amount of information that should enable you to solve most typical problems and if needed, to be able to seek more information using the base knowledge provided."
   ]
  },
  {
   "cell_type": "markdown",
   "id": "0b5ff03f",
   "metadata": {},
   "source": [
    "# Expectations in Classroom\n",
    "\n",
    "The Department of Chemical Engineering supports the community standards of the University(https://www.cmu.edu/student-affairs/theword/community-standards/community-standards.html) that fosters the behavior that provides for every community member to have an opportunity to excel. Each professor within the department may set reasonable classroom behavior standards to ensure a productive learning environment for all students as part of the rights and responsibilities accorded by academic freedom. The following norms are expected from all students, faculty and staff in the department:  \n",
    "\n",
    "By enrolling in a course, each student is agreeing to abide by the course policies of the professor. If anyone has concerns about the policies, the department expects students to communicate directly with their professor. If concerns remain, they can be elevated to your SAC (or ChEGSA/ChEMSA) representative, the Director of Undergraduate Studies (or Director of Graduate Studies), the Department Head, or other administration. \n",
    "\n",
    "\n",
    "- We will conduct ourselves in class in a way that does not interfere with the ability of others to learn. We understand that being active, engaged, and prepared to critically think enables the best in-class learning experience, and will endeavour to reach that mindset. \n",
    "- We will remember that the point is to learn: we will be helpful to one another, asking and answering questions as we are able.\n",
    "- We have the responsibility to protect our own safety and the safety of those around us. We will hold ourselves responsible for our actions and the impact they have on others. \n",
    "- We will act humbly when giving and receiving corrections.\n",
    "- We will treat everyone with respect, valuing each person’s contributions, ideas, and perspectives.\n",
    "\n"
   ]
  },
  {
   "cell_type": "markdown",
   "id": "65912224",
   "metadata": {},
   "source": [
    "# Use of Generative AI\n",
    "\n",
    "You are welcome to use generative AI programs (ChatGPT, DALL-E, etc.) in this course.  These programs can be powerful tools for learning and other productive pursuits, including completing some assignments in less time, helping you generate new ideas, or serving as a personalized learning tool. \n",
    "**However, your ethical responsibilities as a student remain the same**. You must follow CMU’s academic integrity policy. Note that this policy applies to all uncited or improperly cited use of content, whether that work is created by human beings alone or in collaboration with a generative AI. If you use a generative AI tool to develop content for an assignment, you are required to cite the tool’s contribution to your work. In practice, cutting and pasting content from any source without citation is plagiarism. Likewise, paraphrasing content from a generative AI without citation is plagiarism. Similarly, using any generative AI tool without appropriate acknowledgement will be treated as plagiarism. \n",
    "Here are some specific expectations for your use of AI generation tools in this course:\n",
    "\n",
    "- **You may not use AI tools to bypass learning objectives (e.g., generating full solutions to assignments without doing the analysis yourself).**\n",
    "- You may use AI tools to help explain programming concepts and to clarify class examples. However, your question could be someone else's question too. Let's bring them to class and discuss :)\n",
    "- You may use AI tools to generate *sample/auxiliary* code, but you **must** run, test, and understand the code before including it in your studies/assignments. Cite the tool if you include and/or adapt its output.\n",
    "- You may use AI tools to practice problem-solving (e.g., generating practice ODEs, algebraic equations, or optimization examples) as long as your submitted work clearly identifies AI contributions. \n",
    "- You may use AI tools for writing support (e.g., organizing Markdown explanations, refining technical text, improving clarity), with citation when used.\n",
    "- You may not submit AI-generated content (code, text, or figures) without proper acknowledgement.\n",
    "- You are responsible for validating correctness. If AI-generated code does not run, or AI-generated explanations are incorrect, it will be graded as incorrect.\n",
    "\n",
    "\n",
    "Finally, it is important that you recognize that generative AI tools may provide users with incorrect information, create professional-looking citations that are not real, generate contradictory statements, incorporate copyrighted material without appropriate attribution, and sometimes integrate biased or offensive concepts. Code generation models may produce inaccurate outputs. Image generation models may create misleading or offensive content. \n",
    "While you may use these tools in the work you create for this class, **it is important to note that you understand you are ultimately responsible for the content that you submit.** Work that is inaccurate, biased, unethical, offensive, plagiarized, or incorrect will be treated as such during the evaluation of your work. \n",
    "\n",
    "*Adapted from CMU colleagues in the Heinz College of Information Systems and Public Policy* and from https://www.cmu.edu/teaching/technology/aitools/academicintegrity/index.html"
   ]
  },
  {
   "cell_type": "markdown",
   "id": "b3877741",
   "metadata": {},
   "source": [
    "# Grading"
   ]
  },
  {
   "cell_type": "markdown",
   "id": "712ce9df",
   "metadata": {},
   "source": [
    "\n",
    "\n",
    "Your grade will be based on assignments, participation and a final project. Assignments will typically be a problem set, and we will usually give you a one-week deadline.\n",
    "\n",
    "Each lecture will have a participation component. This will usually be an assignment (quiz) in canvas, and may include reflection, quizzes, etc. We will be doing these in class.\n",
    "\n",
    "We will have a project starting in the second half of the course. The project will have a report due and a presentation at the end of the course. You will get more information about the project in mid-September. \n",
    "\n",
    "We are not planning to have any exams. Instead, the problems we would normally have in exams will be spread out over the course.\n",
    "\n",
    "\n",
    "| Category     | weight |\n",
    "|--------------|--------|\n",
    "|Assignments   |   30%  |\n",
    "|Participation (Mini Quizzes) |   20%  |\n",
    "|Project       |   50%  |\n",
    "\n",
    "\n"
   ]
  },
  {
   "cell_type": "markdown",
   "id": "ebcc2f8b",
   "metadata": {},
   "source": [
    "In general, the cutoffs for letter grades are as follows:\n",
    "\n",
    "$90\\% \\,+ \\rightarrow$ A\n",
    "\n",
    "$80\\% \\,+ \\rightarrow$ B\n",
    "\n",
    "$70\\% \\,+ \\rightarrow$ C\n",
    "\n",
    "$60\\% \\,+ \\rightarrow$ D\n",
    "\n",
    "below F\n",
    "\n",
    "These grades may be curved in your favor. Never against you. However, I don't expect this (curving) to be necessary. "
   ]
  },
  {
   "cell_type": "markdown",
   "id": "d2fd43d0",
   "metadata": {},
   "source": [
    "# Homeworks"
   ]
  },
  {
   "cell_type": "markdown",
   "id": "91ddec6b",
   "metadata": {},
   "source": [
    "I encourage everyone to work with your colleagues on the homeworks. However, please\n",
    "indicate, on the first page of your submitted homework, the names of the people with\n",
    "whom you collaborated. While active collaboration can be a great way to learn, blatant\n",
    "copying or plagiarism is not acceptable."
   ]
  },
  {
   "cell_type": "markdown",
   "id": "ae4f42e2",
   "metadata": {},
   "source": [
    "The homework should be submitted as *.ipynb or *.pdf files exported from the Jupyter Notebook interface. I will provide the homework as jupyter notebooks allowing you work directly on the *.ipynb file. I'll show you in class how to submit these."
   ]
  },
  {
   "cell_type": "markdown",
   "id": "c13eef67",
   "metadata": {},
   "source": [
    "Late homework will be reduced by 50% of the original grade, per day. For example, if you turn in the homework late by one day, It will be worth only 50% of the full grade. On the second day, 50% of the previous day, and so on. Please, submit it on time."
   ]
  },
  {
   "cell_type": "markdown",
   "id": "b6ad1f74",
   "metadata": {},
   "source": [
    "# Other Policies and Procedures"
   ]
  },
  {
   "cell_type": "markdown",
   "id": "7cce4a2b",
   "metadata": {},
   "source": [
    "- Accommodations for Students with Disabilities: If you have a disability and have an\n",
    "accommodations approval from the Disability Resources office, I encourage you to\n",
    "discuss your accommodations and needs with me as early in the semester as possible. I\n",
    "will work with you to ensure that the appropriate accommodations are provided. If you\n",
    "suspect that you may have a disability and would benefit from accommodations but are\n",
    "not yet registered with the Office of Disability Resources, I encourage you to follow the\n",
    "online procedures for obtaining accommodations at https://www.cmu.edu/disability-resources/students/obtaining-accommodations.html.\n",
    "\n",
    "- Statement of Support for Students’ Health and Well-Being: I understand that, at\n",
    "times, we may be under increased stress and challenges, and I will do my best to be\n",
    "accomodating. All of us benefit from support during stressful times, and I will do\n",
    "my best to help if you choose to come to me with any concerns. There are many\n",
    "helpful resources available on campus and an important part of the college experience\n",
    "is learning how to ask for help. If you or anyone you know experiences any academic\n",
    "stress, difficult life events, or feelings of anxiety or depression, we strongly encourage\n",
    "you to seek support. Counseling and Psychological Services (CaPS) is here to help: Call\n",
    "412-268-2922 and visit their website at http://www.cmu.edu/counseling/. Consider\n",
    "reaching out to a friend, faculty or family member you trust for help getting connected\n",
    "to the support that can help.\n",
    "If you are feeling desperate, call Re:solve Crisis Network: 888-796-8226 If the situation\n",
    "is life threatening, call the police On campus: CMU Police: 412-268-2323 Off campus:\n",
    "911\n",
    "\n",
    "- Statement of Support for Our Diverse Campus Community: I am committed to treating every individual with respect, and I expect Carnegie Mellon University students to do the same. I personally recognize that we are diverse in many ways, and I believe that this diversity is reflective of society and brings value to our campus. I agree with the university’s statement that diversity can refer to multiple ways that we identify\n",
    "ourselves, including but not limited to race, color, national origin, language, sex, disability, age, sexual orientation, gender identity, religion, creed, ancestry, belief, veteran status, or genetic information. I am personally committed to ensuring that Carnegie\n",
    "Mellon provides an inclusive and welcoming environment. If you feel that you have not been treated with respect in this course, I encourage you to express that, and I hope you will feel comfortable contacting me directly. If you do not feel comfortable, I would encourage you to reach out to our Chemical Engineering Department Head, Professor Carl Laird, and request anonymity if you prefer. I encourage anyone who experiences or observes unfair or hostile treatment on the basis of identity to speak out for justice and support. Anyone can share these experiences\n",
    "using the following resources:\n",
    "    - Center for Student Diversity and Inclusion: csdi@andrew.cmu.edu, (412) 268-2150\n",
    "\n",
    "    - Report-It online anonymous reporting platform: www.reportit.net (username: tartans password: plaid).\n",
    "All reports will be documented and deliberated to determine if there should be any following actions. Regardless of incident type, the university will use all shared experiences to transform our campus climate to be more equitable and just.\n",
    "\n",
    "\n",
    "- Academic Policies: Students are expected to adhere to the Carnegie Mellon University\n",
    "policy on academic integrity published online at\n",
    "http://www.cmu.edu/policies/documents/AcademicIntegrity.htm."
   ]
  },
  {
   "cell_type": "markdown",
   "id": "6416fc1b",
   "metadata": {},
   "source": [
    "# Tentative Calendar Per Class"
   ]
  },
  {
   "cell_type": "markdown",
   "id": "54bc5ec7",
   "metadata": {},
   "source": [
    "| Week   | Date        | Class # | Topic |\n",
    "|--------|-------------|---------|-------|\n",
    "| Week 1 | Aug 25      | 1       | **Course Introduction & Python Foundations**<br>- Course roadmap<br>- Introduction to Python, Jupyter IDE and SciPy<br>- NumPy arrays<br>- Functions and control flows<br>- Plotting with Matplotlib<br>- Linear functions and systems of equations |\n",
    "| Week 1 | Aug 27      | 2       | **Nonlinear Functions & Root Finding**<br>- Bisection (`scipy.optimize.bisect`)<br>- Newton-Raphson (`scipy.optimize.newton`)<br>- Systems of nonlinear equations |\n",
    "| Week 2 | Sep 1       | —       | **No Class** – University Closed (Labor Day) |\n",
    "| Week 2 | Sep 3       | 3       | **Optimization**<br>- Newton’s method<br>- `scipy.optimize.minimize`<br>- Curve fitting / interpolation<br>- Derivative-free optimization |\n",
    "| Week 3 | Sep 8       | 4       | **Differential Equations**<br>- Euler's method (motivation and derivation)<br>- `scipy.solve_ivp` basics<br>- Events<br>- Forcing functions |\n",
    "| Week 3 | Sep 10      | 5       | **Differential Equations II**<br>- ODE systems<br>|\n",
    "| Week 4 | Sep 15      | 6       | **ML I – Concepts and Introduction**<br>- Model validation<br>- Feature engineering<br>- Train / validation / test split<br>- Linear Regression<br>- Decision Trees  |\n",
    "| Week 4 | Sep 17      | 7       | **ML II – Regression**<br>- Neural Networks  |\n",
    "| Week 5 | Sep 22      | 8       | **ML II – Regression**<br>- Gaussian Processes<br>- Extrapolation discussion |\n",
    "| Week 5 | Sep 24      | 9       | **ML III – Classification** |\n",
    "| Week 6 | Sep 29      | 10      | **Review and advanced topics (as time permits)** |\n",
    "| Week 6 | Oct 1       | 11      | **Review and advanced topics (as time permits)** |\n",
    "| Week 7 | Oct 6       | —       | **Final Group Project Presentations** |\n",
    "| Week 7 | Oct 8       | —       | **Final Group Project Presentations** |\n",
    "\n",
    "\n",
    "\n",
    "\n"
   ]
  }
 ],
 "metadata": {
  "kernelspec": {
   "display_name": "numerical",
   "language": "python",
   "name": "python3"
  },
  "language_info": {
   "codemirror_mode": {
    "name": "ipython",
    "version": 3
   },
   "file_extension": ".py",
   "mimetype": "text/x-python",
   "name": "python",
   "nbconvert_exporter": "python",
   "pygments_lexer": "ipython3",
   "version": "3.13.5"
  }
 },
 "nbformat": 4,
 "nbformat_minor": 5
}
