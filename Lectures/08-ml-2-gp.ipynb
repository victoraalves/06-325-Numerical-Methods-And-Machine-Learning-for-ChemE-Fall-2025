{
 "cells": [
  {
   "cell_type": "markdown",
   "id": "228997f3",
   "metadata": {},
   "source": [
    "# Lecture 8 — Machine Learning II, Regression: Gaussian Processes"
   ]
  },
  {
   "cell_type": "markdown",
   "id": "02fcc21b",
   "metadata": {},
   "source": [
    "#### *\"The actual science of logic is conversant at present only with things either certain, impossible, or entirely doubtful, none of which (fortunately) we have to reason on. Therefore the true logic for this world is the calculus of Probabilities, which takes account of the magnitude of the probability which is, or ought to be, in a reasonable man’s mind.\"* (James Clerk Maxwell)"
   ]
  },
  {
   "cell_type": "markdown",
   "id": "6941cfb5",
   "metadata": {},
   "source": [
    "\n",
    "**Learning Outcomes**\n",
    "\n",
    "- Understand Gaussian Processes (GPs) as *nonparametric*, flexible regression models.\n",
    "- Define a GP regression model mathematically (prior, kernel/covariance, posterior).\n",
    "- Recognize common terminology (kernel, length scale, signal variance, noise, marginal likelihood).\n",
    "- Implement GP regression using `scikit-learn`."
   ]
  },
  {
   "cell_type": "markdown",
   "id": "47e4e719",
   "metadata": {},
   "source": [
    "## Motivation and History\n",
    "In chemical engineering we often face nonlinear models (reaction kinetics, transport, thermodynamics).\n",
    "Linear models may be too restrictive. Neural networks give flexible *parametric* function fits; **Gaussian Processes** take a different route:\n",
    "they put a **distribution over functions** and deliver **predictions with uncertainty**.\n",
    "\n",
    "- **Parametric** view (e.g., NN): choose a finite set of parameters $\\theta$, then fit $f(x;\\theta)$.\n",
    "- **Nonparametric** view (GP): specify a prior over functions $f\\sim\\mathcal{GP}(m,k)$; conditioning on data yields a posterior over functions.\n",
    "\n",
    "We will use the **distribution of functions** (and numbers) analogy to explain GPs: instead of committing to one curve, we reason over many plausible curves consistent with observed data."
   ]
  },
  {
   "cell_type": "markdown",
   "id": "b4145cae",
   "metadata": {},
   "source": [
    "Let's take a look at the slide deck I will show in class for a better explanation of how GPs work."
   ]
  },
  {
   "cell_type": "markdown",
   "id": "786e6056",
   "metadata": {},
   "source": [
    "## Mathematical Formulation\n",
    "\n",
    "A **Gaussian Process (GP)** says:  \n",
    "- Any collection of function values is jointly Gaussian (normal).  \n",
    "- To define it, we only need:  \n",
    "  - a **mean function** $m(x)$ (the average shape),  \n",
    "  - a **kernel** $k(x, x’)$ (how similar two points are).  \n",
    "\n",
    "We write this as:\n",
    "\n",
    "$$ f(x) \\sim GP\\big(m(x), k(x,x’)\\big). $$\n",
    "\n",
    "\n",
    "\n",
    "### Predictions with data\n",
    "\n",
    "Suppose we have training data $(x_i, y_i)$ with some Gaussian noise. Then, for a new point $x_*$:\n",
    "\n",
    "- The **predicted mean** (best guess) is:\n",
    "\n",
    "$$ m(x_*) \\;=\\; k_* \\,(K + \\sigma_n^2 I)^{-1} \\, y, $$\n",
    "\n",
    "- The **predicted variance** (uncertainty) is:\n",
    "\n",
    "$$ v(x_*) \\;=\\; k(x_*,x_*) \\;-\\; k_* \\,(K + \\sigma_n^2 I)^{-1} k_*^\\top. $$\n",
    "\n",
    "\n",
    "\n",
    "Where:\n",
    "\n",
    "- $K$: the “similarity matrix” between all training points.  \n",
    "- $k_*$: the similarity between the new point $x_*$ and each training point.  \n",
    "- $\\sigma_n^2$: the noise level (how noisy the data is).  \n",
    "- $m(x_*)$: our best estimate at $x_*$.  \n",
    "- $v(x_*)$: our uncertainty at $x_*$.  \n",
    "\n",
    "\n",
    "\n",
    "**Intuition:** The GP **looks at how similar** the new point is to the training data.  \n",
    "The prediction is a **weighted average** of known outputs, and the uncertainty grows when we’re far from data."
   ]
  },
  {
   "cell_type": "markdown",
   "id": "40e142e8",
   "metadata": {},
   "source": [
    "Let's take a moment to take a look at this cool website.\n",
    "\n",
    "- [A visual Exploration of Gaussian Processes](https://distill.pub/2019/visual-exploration-gaussian-processes/)"
   ]
  },
  {
   "cell_type": "markdown",
   "id": "363e310b",
   "metadata": {},
   "source": [
    "### Kernels [(covariance functions)](https://www.cs.toronto.edu/~duvenaud/cookbook/)\n",
    "- **RBF/Gaussian**: $k_{\\text{RBF}}(x,x') = \\sigma_f^2 \\exp\\!\\big(-\\tfrac{1}{2}\\|x-x'\\|^2/\\ell^2\\big)$\n",
    "- **Matérn** (e.g., $\\nu = 3/2$ or $5/2$): roughness controlled by $\\nu$\n",
    "- **Periodic**: encodes periodic behavior\n",
    "- Plus composition: sums/products to encode additive or multiplicative structure\n",
    "\n",
    "**Hyperparameters**: length scale $\\ell$, signal variance $\\sigma_f^2$, noise variance $\\sigma_n^2$. These play a role analogous to NN architecture/regularization choices."
   ]
  },
  {
   "cell_type": "markdown",
   "id": "6dbad143",
   "metadata": {},
   "source": [
    "### Training = Hyperparameter optimization (marginal likelihood)\n",
    "Like Lecture 7 framed NN training as an optimization, in GPs we typically choose kernel hyperparameters $\\theta$ by **maximizing the log marginal likelihood**:\n",
    "\n",
    "$$\\log p(\\mathbf{y}\\,|\\,X,\\theta) = -\\tfrac{1}{2}\\mathbf{y}^\\top(K_\\theta+\\sigma_n^2 I)^{-1}\\mathbf{y}\n",
    " - \\tfrac{1}{2}\\log\\det(K_\\theta+\\sigma_n^2 I) - \\tfrac{N}{2}\\log 2\\pi.$$\n",
    "\n",
    "This automatically balances data fit and model complexity through the log-determinant term."
   ]
  },
  {
   "cell_type": "markdown",
   "id": "2e830374",
   "metadata": {},
   "source": [
    "## An example"
   ]
  },
  {
   "cell_type": "code",
   "execution_count": 1,
   "id": "42fcf2d2",
   "metadata": {},
   "outputs": [
    {
     "data": {
      "application/vnd.microsoft.datawrangler.viewer.v0+json": {
       "columns": [
        {
         "name": "ExptNo.",
         "rawType": "int64",
         "type": "integer"
        },
        {
         "name": "conc",
         "rawType": "float64",
         "type": "float"
        },
        {
         "name": "zsv",
         "rawType": "float64",
         "type": "float"
        },
        {
         "name": "log-conc",
         "rawType": "float64",
         "type": "float"
        },
        {
         "name": "log-zsv",
         "rawType": "float64",
         "type": "float"
        }
       ],
       "ref": "ed8280e8-4877-4eef-af60-2f7464afe5ba",
       "rows": [
        [
         "1",
         "1.8",
         "1.34357125",
         "0.5877866649021191",
         "0.295331180789644"
        ],
        [
         "2",
         "7.5",
         "470.2488",
         "2.0149030205422647",
         "6.153261916343753"
        ],
        [
         "3",
         "31.6",
         "4.892228125",
         "3.4531571205928664",
         "1.5876478489944217"
        ],
        [
         "4",
         "133.4",
         "9.687286",
         "4.893352133481524",
         "2.27081430411289"
        ],
        [
         "5",
         "562.3",
         "1.586862333",
         "6.332035515298156",
         "0.4617586910896887"
        ],
        [
         "6",
         "3.16",
         "1.3851401",
         "1.1505720275988207",
         "0.3258012897581132"
        ],
        [
         "7",
         "5.21",
         "4.537974444",
         "1.6505798557652755",
         "1.5124807547860413"
        ],
        [
         "8",
         "11.02",
         "57.86580833",
         "2.3997118037247684",
         "4.058126680441218"
        ],
        [
         "9",
         "18.17",
         "8.042775",
         "2.89977188240808",
         "2.084774172894305"
        ],
        [
         "10",
         "60.34",
         "7.768175972000001",
         "4.099995233730915",
         "2.0500353841824897"
        ],
        [
         "11",
         "4.06",
         "1.54497125",
         "1.4011829736136412",
         "0.4350053017623305"
        ],
        [
         "12",
         "8.05",
         "537.217396",
         "2.0856720914304723",
         "6.286402846850016"
        ],
        [
         "13",
         "23.34",
         "5.85164233",
         "3.15016862685841",
         "1.7667223620145571"
        ],
        [
         "14",
         "94.63",
         "11.91158769",
         "4.549974550520141",
         "2.4775116817873655"
        ],
        [
         "15",
         "295.89",
         "3.646146429",
         "5.6899877636340115",
         "1.2936708369969183"
        ],
        [
         "16",
         "43.82",
         "5.809896667",
         "3.78009033416732",
         "1.7595627853356066"
        ]
       ],
       "shape": {
        "columns": 4,
        "rows": 16
       }
      },
      "text/html": [
       "<div>\n",
       "<style scoped>\n",
       "    .dataframe tbody tr th:only-of-type {\n",
       "        vertical-align: middle;\n",
       "    }\n",
       "\n",
       "    .dataframe tbody tr th {\n",
       "        vertical-align: top;\n",
       "    }\n",
       "\n",
       "    .dataframe thead th {\n",
       "        text-align: right;\n",
       "    }\n",
       "</style>\n",
       "<table border=\"1\" class=\"dataframe\">\n",
       "  <thead>\n",
       "    <tr style=\"text-align: right;\">\n",
       "      <th></th>\n",
       "      <th>conc</th>\n",
       "      <th>zsv</th>\n",
       "      <th>log-conc</th>\n",
       "      <th>log-zsv</th>\n",
       "    </tr>\n",
       "    <tr>\n",
       "      <th>ExptNo.</th>\n",
       "      <th></th>\n",
       "      <th></th>\n",
       "      <th></th>\n",
       "      <th></th>\n",
       "    </tr>\n",
       "  </thead>\n",
       "  <tbody>\n",
       "    <tr>\n",
       "      <th>1</th>\n",
       "      <td>1.80</td>\n",
       "      <td>1.343571</td>\n",
       "      <td>0.587787</td>\n",
       "      <td>0.295331</td>\n",
       "    </tr>\n",
       "    <tr>\n",
       "      <th>2</th>\n",
       "      <td>7.50</td>\n",
       "      <td>470.248800</td>\n",
       "      <td>2.014903</td>\n",
       "      <td>6.153262</td>\n",
       "    </tr>\n",
       "    <tr>\n",
       "      <th>3</th>\n",
       "      <td>31.60</td>\n",
       "      <td>4.892228</td>\n",
       "      <td>3.453157</td>\n",
       "      <td>1.587648</td>\n",
       "    </tr>\n",
       "    <tr>\n",
       "      <th>4</th>\n",
       "      <td>133.40</td>\n",
       "      <td>9.687286</td>\n",
       "      <td>4.893352</td>\n",
       "      <td>2.270814</td>\n",
       "    </tr>\n",
       "    <tr>\n",
       "      <th>5</th>\n",
       "      <td>562.30</td>\n",
       "      <td>1.586862</td>\n",
       "      <td>6.332036</td>\n",
       "      <td>0.461759</td>\n",
       "    </tr>\n",
       "    <tr>\n",
       "      <th>6</th>\n",
       "      <td>3.16</td>\n",
       "      <td>1.385140</td>\n",
       "      <td>1.150572</td>\n",
       "      <td>0.325801</td>\n",
       "    </tr>\n",
       "    <tr>\n",
       "      <th>7</th>\n",
       "      <td>5.21</td>\n",
       "      <td>4.537974</td>\n",
       "      <td>1.650580</td>\n",
       "      <td>1.512481</td>\n",
       "    </tr>\n",
       "    <tr>\n",
       "      <th>8</th>\n",
       "      <td>11.02</td>\n",
       "      <td>57.865808</td>\n",
       "      <td>2.399712</td>\n",
       "      <td>4.058127</td>\n",
       "    </tr>\n",
       "    <tr>\n",
       "      <th>9</th>\n",
       "      <td>18.17</td>\n",
       "      <td>8.042775</td>\n",
       "      <td>2.899772</td>\n",
       "      <td>2.084774</td>\n",
       "    </tr>\n",
       "    <tr>\n",
       "      <th>10</th>\n",
       "      <td>60.34</td>\n",
       "      <td>7.768176</td>\n",
       "      <td>4.099995</td>\n",
       "      <td>2.050035</td>\n",
       "    </tr>\n",
       "    <tr>\n",
       "      <th>11</th>\n",
       "      <td>4.06</td>\n",
       "      <td>1.544971</td>\n",
       "      <td>1.401183</td>\n",
       "      <td>0.435005</td>\n",
       "    </tr>\n",
       "    <tr>\n",
       "      <th>12</th>\n",
       "      <td>8.05</td>\n",
       "      <td>537.217396</td>\n",
       "      <td>2.085672</td>\n",
       "      <td>6.286403</td>\n",
       "    </tr>\n",
       "    <tr>\n",
       "      <th>13</th>\n",
       "      <td>23.34</td>\n",
       "      <td>5.851642</td>\n",
       "      <td>3.150169</td>\n",
       "      <td>1.766722</td>\n",
       "    </tr>\n",
       "    <tr>\n",
       "      <th>14</th>\n",
       "      <td>94.63</td>\n",
       "      <td>11.911588</td>\n",
       "      <td>4.549975</td>\n",
       "      <td>2.477512</td>\n",
       "    </tr>\n",
       "    <tr>\n",
       "      <th>15</th>\n",
       "      <td>295.89</td>\n",
       "      <td>3.646146</td>\n",
       "      <td>5.689988</td>\n",
       "      <td>1.293671</td>\n",
       "    </tr>\n",
       "    <tr>\n",
       "      <th>16</th>\n",
       "      <td>43.82</td>\n",
       "      <td>5.809897</td>\n",
       "      <td>3.780090</td>\n",
       "      <td>1.759563</td>\n",
       "    </tr>\n",
       "  </tbody>\n",
       "</table>\n",
       "</div>"
      ],
      "text/plain": [
       "           conc         zsv  log-conc   log-zsv\n",
       "ExptNo.                                        \n",
       "1          1.80    1.343571  0.587787  0.295331\n",
       "2          7.50  470.248800  2.014903  6.153262\n",
       "3         31.60    4.892228  3.453157  1.587648\n",
       "4        133.40    9.687286  4.893352  2.270814\n",
       "5        562.30    1.586862  6.332036  0.461759\n",
       "6          3.16    1.385140  1.150572  0.325801\n",
       "7          5.21    4.537974  1.650580  1.512481\n",
       "8         11.02   57.865808  2.399712  4.058127\n",
       "9         18.17    8.042775  2.899772  2.084774\n",
       "10        60.34    7.768176  4.099995  2.050035\n",
       "11         4.06    1.544971  1.401183  0.435005\n",
       "12         8.05  537.217396  2.085672  6.286403\n",
       "13        23.34    5.851642  3.150169  1.766722\n",
       "14        94.63   11.911588  4.549975  2.477512\n",
       "15       295.89    3.646146  5.689988  1.293671\n",
       "16        43.82    5.809897  3.780090  1.759563"
      ]
     },
     "execution_count": 1,
     "metadata": {},
     "output_type": "execute_result"
    }
   ],
   "source": [
    "import pandas as pd\n",
    "import numpy as np\n",
    "\n",
    "df = pd.read_csv(\"logzsv.csv\", index_col=0)\n",
    "df"
   ]
  },
  {
   "cell_type": "code",
   "execution_count": 2,
   "id": "d063ee9f",
   "metadata": {},
   "outputs": [
    {
     "data": {
      "text/plain": [
       "Text(0, 0.5, 'y')"
      ]
     },
     "execution_count": 2,
     "metadata": {},
     "output_type": "execute_result"
    },
    {
     "data": {
      "image/png": "[encoded data removed]",
      "text/plain": [
       "<Figure size 640x480 with 1 Axes>"
      ]
     },
     "metadata": {},
     "output_type": "display_data"
    }
   ],
   "source": [
    "import matplotlib.pyplot as plt\n",
    "\n",
    "X = np.array(df[\"log-conc\"])[:, None]\n",
    "y = np.array(df[\"log-zsv\"])[:, None]\n",
    "\n",
    "plt.plot(X, y, \"ko\", label=\"Training Data\")\n",
    "plt.xlabel(\"X\")\n",
    "plt.ylabel(\"y\")"
   ]
  },
  {
   "cell_type": "markdown",
   "id": "390d8f62",
   "metadata": {},
   "source": [
    "## Train/Test Split and Scaling (as in Lecture 7)\n",
    "Scaling is important for kernels (just like activations in NNs). We'll standardize `x` to improve length-scale interpretability and conditioning."
   ]
  },
  {
   "cell_type": "code",
   "execution_count": 3,
   "id": "bdfdfb16",
   "metadata": {},
   "outputs": [
    {
     "data": {
      "text/plain": [
       "(array([[ 0.8390746 ],\n",
       "        [-0.94550529],\n",
       "        [-0.35595667],\n",
       "        [ 0.51321199],\n",
       "        [ 0.04478966]]),\n",
       " array([[2.47751168],\n",
       "        [6.28640285],\n",
       "        [2.08477417],\n",
       "        [2.05003538],\n",
       "        [1.58764785]]))"
      ]
     },
     "execution_count": 3,
     "metadata": {},
     "output_type": "execute_result"
    }
   ],
   "source": [
    "from sklearn.model_selection import train_test_split\n",
    "from sklearn.preprocessing import StandardScaler\n",
    "\n",
    "Xtr, Xte, ytr, yte = train_test_split(X, y, test_size=0.2, random_state=42)\n",
    "\n",
    "# Standardize X (fit on train, apply to both train/test)\n",
    "x_scaler = StandardScaler()\n",
    "Xtr_s = x_scaler.fit_transform(Xtr)\n",
    "Xte_s = x_scaler.transform(Xte)\n",
    "\n",
    "Xtr_s[:5], ytr[:5]"
   ]
  },
  {
   "cell_type": "markdown",
   "id": "1b24e2f0",
   "metadata": {},
   "source": [
    "## Gaussian Process in scikit-learn\n",
    "We'll start with an RBF kernel. scikit-learn will **optimize hyperparameters** by maximizing the log marginal likelihood."
   ]
  },
  {
   "cell_type": "code",
   "execution_count": 4,
   "id": "203ee1db",
   "metadata": {},
   "outputs": [
    {
     "name": "stdout",
     "output_type": "stream",
     "text": [
      "Optimized kernel: RBF(length_scale=0.235)\n",
      "Optimized kernel parameters: {'length_scale': np.float64(0.23497730388535837), 'length_scale_bounds': (0.001, 1000.0)}\n"
     ]
    }
   ],
   "source": [
    "from sklearn.gaussian_process import GaussianProcessRegressor\n",
    "from sklearn.gaussian_process.kernels import RBF, WhiteKernel, ConstantKernel as C\n",
    "from sklearn.metrics import r2_score\n",
    "\n",
    "# Kernel: RBF - the \"most famous\" one\n",
    "kernel =  RBF(length_scale=1.0, length_scale_bounds=(1e-3, 1e3))\n",
    "\n",
    "gpr = GaussianProcessRegressor(alpha=0.1,\n",
    "                               kernel=kernel, \n",
    "                               normalize_y=True, \n",
    "                               random_state=0, \n",
    "                               n_restarts_optimizer=5)\n",
    "gpr.fit(Xtr_s, ytr)\n",
    "\n",
    "print(\"Optimized kernel:\", gpr.kernel_)\n",
    "print(\"Optimized kernel parameters:\", gpr.kernel_.get_params())"
   ]
  },
  {
   "cell_type": "code",
   "execution_count": 5,
   "id": "d641bccf",
   "metadata": {},
   "outputs": [
    {
     "data": {
      "text/plain": [
       "{'alpha': 0.1,\n",
       " 'copy_X_train': True,\n",
       " 'kernel__length_scale': 1.0,\n",
       " 'kernel__length_scale_bounds': (0.001, 1000.0),\n",
       " 'kernel': RBF(length_scale=1),\n",
       " 'n_restarts_optimizer': 5,\n",
       " 'n_targets': None,\n",
       " 'normalize_y': True,\n",
       " 'optimizer': 'fmin_l_bfgs_b',\n",
       " 'random_state': 0}"
      ]
     },
     "execution_count": 5,
     "metadata": {},
     "output_type": "execute_result"
    }
   ],
   "source": [
    "gpr.get_params()"
   ]
  },
  {
   "cell_type": "markdown",
   "id": "a9ed3d30",
   "metadata": {},
   "source": [
    "### Predictions with uncertainty\n",
    "We compute predictive mean and standard deviation on a grid for visualization. The **uncertainty region** (mean ± 2 std) illustrates the distribution-over-functions perspective."
   ]
  },
  {
   "cell_type": "code",
   "execution_count": 6,
   "id": "f73547ba",
   "metadata": {},
   "outputs": [
    {
     "data": {
      "image/png": "[encoded data removed]",
      "text/plain": [
       "<Figure size 600x400 with 1 Axes>"
      ]
     },
     "metadata": {},
     "output_type": "display_data"
    }
   ],
   "source": [
    "import numpy as np\n",
    "import matplotlib.pyplot as plt\n",
    "\n",
    "# Create a sorted grid over the range of X for a clean plot\n",
    "x_min, x_max = X.min(), X.max()\n",
    "xx = np.linspace(x_min, x_max, 400)[:, None]\n",
    "xx_s = x_scaler.transform(xx)\n",
    "\n",
    "y_mean, y_std = gpr.predict(xx_s, return_std=True)\n",
    "\n",
    "plt.figure(figsize=(6,4))\n",
    "plt.scatter(Xtr[:,0], ytr, s=18, alpha=0.8, label='Train')\n",
    "plt.scatter(Xte[:,0], yte, s=18, alpha=0.8, label='Test')\n",
    "plt.plot(xx[:,0], y_mean)\n",
    "plt.fill_between(xx[:,0], y_mean - 2*y_std, y_mean + 2*y_std, alpha=0.2, label='±2σ')\n",
    "plt.xlabel('x')\n",
    "plt.ylabel('y')\n",
    "plt.title('Gaussian Process Regression (RBF)')\n",
    "plt.legend()\n",
    "plt.tight_layout()\n",
    "plt.show()"
   ]
  },
  {
   "cell_type": "code",
   "execution_count": 7,
   "id": "8bafb1d1",
   "metadata": {},
   "outputs": [
    {
     "name": "stdout",
     "output_type": "stream",
     "text": [
      "Test R^2: 0.783\n"
     ]
    }
   ],
   "source": [
    "# Quantitative evaluation\n",
    "yte_pred, yte_std = gpr.predict(Xte_s, return_std=True)\n",
    "r2 = r2_score(yte, yte_pred)\n",
    "print(f\"Test R^2: {r2:.3f}\")"
   ]
  },
  {
   "cell_type": "markdown",
   "id": "97f6436d",
   "metadata": {},
   "source": [
    "## Design choices : Hyperparameters (again)\n",
    "As in the NN lecture (layers/neurons/activations), here we choose:\n",
    "1. **Kernel family** (RBF, Matérn, periodic, sums/products)\n",
    "2. **Length scale** $\\ell$ (controls smoothness / correlation distance)\n",
    "3. **Signal variance** $\\sigma_f^2$ (output scale)\n",
    "4. **Noise variance** $\\sigma_n^2$ (observation noise)\n",
    "5. **Input scaling** (standardization)\n",
    "\n",
    "We usually choose these by maximizing the marginal likelihood (as above), cross-validation, or domain-informed priors (physics)."
   ]
  },
  {
   "cell_type": "markdown",
   "id": "7b39bcd4",
   "metadata": {},
   "source": [
    "## Variations: Matérn kernel and periodic structure\n",
    "Try swapping the kernel. Below we demonstrate Matérn($\\nu=3/2$); you can also add periodic components if your phenomenon is periodic."
   ]
  },
  {
   "cell_type": "code",
   "execution_count": 8,
   "id": "754e2a86",
   "metadata": {},
   "outputs": [
    {
     "name": "stdout",
     "output_type": "stream",
     "text": [
      "Optimized Matérn kernel: 1.02**2 * Matern(length_scale=0.271, nu=1.5) + WhiteKernel(noise_level=1.1e-08)\n"
     ]
    },
    {
     "data": {
      "image/png": "[encoded data removed]",
      "text/plain": [
       "<Figure size 600x400 with 1 Axes>"
      ]
     },
     "metadata": {},
     "output_type": "display_data"
    }
   ],
   "source": [
    "from sklearn.gaussian_process.kernels import Matern\n",
    "\n",
    "matern_kernel = C(1.0, (1e-3, 1e3)) * Matern(length_scale=1.0, nu=1.5, length_scale_bounds=(1e-3, 1e3)) + WhiteKernel(noise_level=1e-2, noise_level_bounds=(1e-9, 1e1))\n",
    "gpr_m = GaussianProcessRegressor(kernel=matern_kernel, normalize_y=True, random_state=0, n_restarts_optimizer=5)\n",
    "gpr_m.fit(Xtr_s, ytr)\n",
    "print(\"Optimized Matérn kernel:\", gpr_m.kernel_)\n",
    "\n",
    "y_mean_m, y_std_m = gpr_m.predict(xx_s, return_std=True)\n",
    "\n",
    "plt.figure(figsize=(6,4))\n",
    "plt.scatter(Xtr[:,0], ytr, s=18, alpha=0.8, label='Train')\n",
    "plt.scatter(Xte[:,0], yte, s=18, alpha=0.8, label='Test')\n",
    "plt.plot(xx[:,0], y_mean_m)\n",
    "plt.fill_between(xx[:,0], y_mean_m - 2*y_std_m, y_mean_m + 2*y_std_m, alpha=0.2, label='±2σ')\n",
    "plt.xlabel('x')\n",
    "plt.ylabel('y')\n",
    "plt.title('Gaussian Process Regression (Matérn ν=3/2)')\n",
    "plt.legend()\n",
    "plt.tight_layout()\n",
    "plt.show()"
   ]
  },
  {
   "cell_type": "markdown",
   "id": "6fff1f38",
   "metadata": {},
   "source": [
    "## Strengths and Weaknesses\n",
    "**Strengths**\n",
    "- Flexible, probabilistic predictions with calibrated uncertainty.\n",
    "- Interpretable kernels can be crafted.\n",
    "- Automatic Occam's razor via marginal likelihood.\n",
    "\n",
    "**Weaknesses**\n",
    "- $\\mathcal{O}(N^3)$ scaling; expensive for large $N$ (consider sparse/approximate GPs)\n",
    "- Kernel choice matters (inductive bias)\n",
    "- Requires careful scaling/normalization and validation"
   ]
  },
  {
   "cell_type": "markdown",
   "id": "7905040e",
   "metadata": {},
   "source": [
    "## Summary\n",
    "- **GP = distribution over functions** (nonparametric regression)\n",
    "- **Training = hyperparameter optimization** via marginal likelihood\n",
    "- **Kernels** encode smoothness/structure; length scale $\\ell$, signal variance $\\sigma_f^2$, noise $\\sigma_n^2$\n",
    "- **scikit-learn** makes GPR straightforward; always mind **scaling**\n",
    "- Use **uncertainty bands** to communicate confidence in predictions"
   ]
  },
  {
   "cell_type": "markdown",
   "id": "f9c3f0a2",
   "metadata": {},
   "source": [
    "## References & Further Reading\n",
    "- scikit-learn: Gaussian Processes — https://scikit-learn.org/stable/modules/gaussian_process.html\n",
    "- Rasmussen & Williams (2006), *Gaussian Processes for Machine Learning* (MIT Press)\n",
    "- Hoffman, H.; Rehage, H. (1988) *Rheological properties of viscoelastic surfactant systems*, **J. Phys. Chem.**, 92(16), 4712–4719.\n",
    "- [Data science and machine learning in engineering and science](https://kitchingroup.cheme.cmu.edu/s24-06642/intro.html)"
   ]
  }
 ],
 "metadata": {
  "author": "Auto-generated",
  "created": "2025-09-22T15:15:40.398261Z",
  "kernelspec": {
   "display_name": "numerical",
   "language": "python",
   "name": "python3"
  },
  "language_info": {
   "codemirror_mode": {
    "name": "ipython",
    "version": 3
   },
   "file_extension": ".py",
   "mimetype": "text/x-python",
   "name": "python",
   "nbconvert_exporter": "python",
   "pygments_lexer": "ipython3",
   "version": "3.13.5"
  }
 },
 "nbformat": 4,
 "nbformat_minor": 5
}
