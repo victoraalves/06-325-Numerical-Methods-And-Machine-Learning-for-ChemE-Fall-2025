{
 "cells": [
  {
   "cell_type": "markdown",
   "id": "195ca617",
   "metadata": {},
   "source": [
    "# Group Projects - 06-325 Numerical Methods and Machine Learning for Chemical Engineering"
   ]
  },
  {
   "cell_type": "markdown",
   "id": "7e077083",
   "metadata": {},
   "source": [
    "Teams: 15 groups of 3 (with one group of 4) \n",
    "\n",
    "Projects Due: Monday, October 6 before class \n",
    "\n",
    "Presentations: In class October 6/8, 10 minutes each + 3 minutes for questions \n",
    "\n",
    "- Groups can use Jupyter notebooks or make slides as long as they follow presentation rubric \n",
    "\n",
    "Instructions for the projects:\n",
    "\n",
    "- Project: Your final project will be a PDF derived from a Jupyter notebook. Your notebook should read like a technical report, with sections to organize the contents, complete sentences, and paragraphs with interspersed code cells and results. The lecture notes are a reasonable model for what I am expecting from you. There is not a hard length; it should be appropriate for your topic. Your report will be graded in these areas.\n",
    "\n",
    "- Technical (70%): You should explain what your code is doing, the code should follow the style and conventions used in the lecture notes. Your work should be original. I do not want to see small derivatives of existing work, or copied examples from the internet.\n",
    "\n",
    "- Presentation of report (30%): I expect full sentences and paragraphs, with limited typos and grammatical mistakes. If you have used external content for something you should have reference (a URL is fine) to indicate that.\n",
    "\n",
    "\n",
    "- Typical sections in notebook: \n",
    "\n",
    "1. Introduction \n",
    "2. Methods \n",
    "3. Results \n",
    "4. Conclusions\n",
    "\n",
    "\n",
    "Make sure your project is complete. That everything runs as expected. Restart the kernel in Jupyter notebook (Google Colab) and run all cells before turning the *.ipynb into a *.pdf.\n",
    "\n"
   ]
  },
  {
   "cell_type": "markdown",
   "id": "e9f6d481",
   "metadata": {},
   "source": [
    "Lastly, Remember to run the following commands at the end of your project, in a separate cell(similar to HW assignments), to generate your PDF:"
   ]
  },
  {
   "cell_type": "code",
   "execution_count": null,
   "id": "0a7f9472",
   "metadata": {},
   "outputs": [],
   "source": [
    "!pip install pycse &> /dev/null\n",
    "from pycse.colab import pdf\n",
    "%pdf -h"
   ]
  },
  {
   "cell_type": "markdown",
   "id": "4e115183",
   "metadata": {},
   "source": [
    "[Reference from Prof. Kitchin's course](https://kitchingroup.cheme.cmu.edu/s25-06623/assignments/project/project.html)\n"
   ]
  }
 ],
 "metadata": {
  "language_info": {
   "name": "python"
  }
 },
 "nbformat": 4,
 "nbformat_minor": 5
}
