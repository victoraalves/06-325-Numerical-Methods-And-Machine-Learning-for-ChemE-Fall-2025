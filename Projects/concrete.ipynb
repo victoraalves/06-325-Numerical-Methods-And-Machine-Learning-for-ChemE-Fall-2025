{
 "cells": [
  {
   "cell_type": "markdown",
   "id": "c846426a",
   "metadata": {},
   "source": [
    "## Machine Learning Modeling of Concrete Compressive Strength"
   ]
  },
  {
   "cell_type": "markdown",
   "id": "40c34b77",
   "metadata": {},
   "source": [
    "Dataset available on https://archive-beta.ics.uci.edu/dataset/165/concrete+compressive+strength, License is [CC BY 4.0](https://creativecommons.org/licenses/by/4.0/)"
   ]
  },
  {
   "cell_type": "markdown",
   "id": "9d41e39f",
   "metadata": {},
   "source": [
    "This project consists in developing a machine learning regression model of the concrete compressive strength as a nonlinear function of its ingredients.  It is a typical ML dataset found in the literature.\n",
    "\n",
    "This dataset contains 1030 instances/datapoints, 9 features, including Cement, Blast Furnace Slag, Fly Ash, Water, Superplasticizer, Coarse and Fine Aggregates and concrete Age. The concrete compressive strength is our target/label."
   ]
  },
  {
   "cell_type": "markdown",
   "id": "3a618acb",
   "metadata": {},
   "source": [
    "\n",
    "## Description of Variables and Dataset\n",
    "\n",
    "**Inputs (features):**  \n",
    "- Cement (kg in a m³ mixture)  \n",
    "- Blast Furnace Slag (kg in a m³ mixture)  \n",
    "- Fly Ash (kg in a m³ mixture)  \n",
    "- Water (kg in a m³ mixture)  \n",
    "- Superplasticizer (kg in a m³ mixture)  \n",
    "- Coarse Aggregate (kg in a m³ mixture)  \n",
    "- Fine Aggregate (kg in a m³ mixture)  \n",
    "- Age (days) — curing age of the concrete sample  \n",
    "\n",
    "**Output (target / label):**  \n",
    "- Compressive Strength (MPa) — concrete compressive strength at given age  \n",
    "\n",
    "**Data file:**  CSV from UCI dataset\n",
    "\n",
    "All units follow the dataset as provided. For definitions and context on compressive strength and mixture design, please see the [UCI dataset page](https://archive-beta.ics.uci.edu/dataset/165/concrete+compressive+strength).  "
   ]
  },
  {
   "cell_type": "markdown",
   "id": "2a993357",
   "metadata": {},
   "source": [
    "Using the provided dataset, build three different ML regression models to predict **Compressive Strength (MPa)** from the given input features. Use **scikit-learn** and machine learning models of your own choosing.  \n",
    "\n",
    "You should:  \n",
    "\n",
    "1. **Formalize** the ML problem (features, target, assumptions).  \n",
    "2. **Load and inspect** the dataset; perform basic analysis of the data (distributions, correlations, unit checks).  \n",
    "3. Define and justify your **data split** (train/test).  \n",
    "4. Build a **pipeline** (preprocessing + regressor).  \n",
    "5. **Train/validate** at your models (you may try multiple algorithms, but report clearly on your final choice).  \n",
    "6. **Evaluate** with MAE, RMSE, and $R^2$ on the held-out test set; include residual and predicted-vs-true plots.  \n",
    "7. Provide a **short discussion**: model choice rationale, performance, physical sanity-checks (e.g., does higher cement content generally increase strength?), limitations.  \n",
    "\n",
    "\n"
   ]
  },
  {
   "cell_type": "markdown",
   "id": "b5a85321",
   "metadata": {},
   "source": [
    "**Note: Feel free to remove non-continuous features (integers) such as age and blast furnace slag.**"
   ]
  }
 ],
 "metadata": {
  "kernelspec": {
   "display_name": "numerical",
   "language": "python",
   "name": "python3"
  },
  "language_info": {
   "codemirror_mode": {
    "name": "ipython",
    "version": 3
   },
   "file_extension": ".py",
   "mimetype": "text/x-python",
   "name": "python",
   "nbconvert_exporter": "python",
   "pygments_lexer": "ipython3",
   "version": "3.13.5"
  }
 },
 "nbformat": 4,
 "nbformat_minor": 5
}
